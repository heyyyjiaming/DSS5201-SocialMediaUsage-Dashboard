{
 "cells": [
  {
   "cell_type": "markdown",
   "metadata": {},
   "source": [
    "## Reproduction"
   ]
  },
  {
   "cell_type": "code",
   "execution_count": 6,
   "metadata": {},
   "outputs": [],
   "source": [
    "import matplotlib.pyplot as plt\n",
    "import pandas as pd\n",
    "import numpy as np\n",
    "from plotnine import (\n",
    "    ggplot, aes, geom_point, geom_segment, geom_text, geom_label,\n",
    "    theme_minimal, theme, element_text, element_blank, element_rect, labs, scale_color_manual,\n",
    "    coord_cartesian, scale_x_continuous, options\n",
    ")\n",
    "import plotly.express as px\n",
    "import plotly.graph_objects as go\n",
    "import warnings\n",
    "warnings.filterwarnings(\"ignore\")\n"
   ]
  },
  {
   "cell_type": "code",
   "execution_count": 7,
   "metadata": {},
   "outputs": [],
   "source": [
    "# import the whole dataset\n",
    "usage_all = pd.read_excel('../data/Social Media Usage_pivoted.xlsx')\n",
    "# filter data (find the data with dimension = \"Age\")\n",
    "usage_by_age = usage_all[usage_all['Dimension'] == 'Age']\n",
    "# usage_by_age.head()\n",
    "# check the data type\n",
    "# print('data types:',usage_by_age.dtypes)\n",
    " # check values\n",
    "# print(usage_by_age['Percentage'].unique())\n",
    "## convert data\n",
    "def convert_percentage(value):\n",
    "    if value == '<1':\n",
    "        return 0\n",
    "    try:\n",
    "        return float(value)\n",
    "    except ValueError:\n",
    "        return None  \n",
    "usage_by_age['Percentage'] = usage_by_age['Percentage'].apply(convert_percentage)\n",
    "usage_by_age['Percentage'].unique()\n",
    "usage_by_age.head()\n",
    "\n",
    "# Clean Data \n",
    "# Standardize platform names \n",
    "usage_by_age['Platform'] = usage_by_age['Platform'].replace({\n",
    "    'Tik Tok': 'TikTok',\n",
    "    'Twitter (X)': 'Twitter',\n",
    "    'You Tube': 'YouTube'\n",
    "})\n",
    "\n",
    "# Standardize age group name\n",
    "usage_by_age['Category'] = usage_by_age['Category'].replace({'Ages 18-29': '18-29'})\n",
    "\n",
    "# Calculate the difference between the usage percentages for the age groups 18-29 and 65+\n",
    "age_gap_diff = usage_by_age.pivot(index='Platform', columns='Category', values='Percentage')\n",
    "age_gap_diff['Youngest - oldest DIFF'] = age_gap_diff['18-29'] - age_gap_diff['65+']\n",
    "# Prepare the data\n",
    "age_gap_diff = age_gap_diff.reset_index()\n",
    "\n",
    "# drop \"Be Real\"\n",
    "age_gap_diff = age_gap_diff[age_gap_diff['Platform']!='Be Real']\n",
    "# age_gap_diff\n",
    "\n",
    "platforms = age_gap_diff['Platform'].unique()\n",
    "age_groups = ['18-29', '30-49', '50-64', '65+']\n",
    "\n",
    "# Define age group colors to match the target visualization\n",
    "age_colors = {\n",
    "    '18-29': '#003366',  # Dark blue\n",
    "    '30-49': '#336699',  # Mid blue\n",
    "    '50-64': '#99CC99',  # Light green\n",
    "    '65+': '#99CC33'     # Dark green\n",
    "}\n",
    "\n",
    "\n",
    "# Melt the DataFrame into a long format suitable for plotnine\n",
    "df_long = age_gap_diff.melt(\n",
    "    id_vars=['Platform', 'Youngest - oldest DIFF'],\n",
    "    value_vars=age_groups,\n",
    "    var_name='Age Group',\n",
    "    value_name='Percentage'\n",
    ")\n",
    "\n",
    "# Ensure the age groups are ordered correctly\n",
    "df_long['Age Group'] = pd.Categorical(df_long['Age Group'], categories=age_groups, ordered=True)\n",
    "\n"
   ]
  },
  {
   "cell_type": "code",
   "execution_count": 8,
   "metadata": {},
   "outputs": [
    {
     "data": {
      "application/vnd.plotly.v1+json": {
       "config": {
        "plotlyServerURL": "https://plot.ly"
       },
       "data": [
        {
         "customdata": [
          [
           "18-29"
          ],
          [
           "18-29"
          ],
          [
           "18-29"
          ],
          [
           "18-29"
          ],
          [
           "18-29"
          ],
          [
           "18-29"
          ],
          [
           "18-29"
          ],
          [
           "18-29"
          ],
          [
           "18-29"
          ],
          [
           "18-29"
          ]
         ],
         "hovertemplate": "Age Group=%{customdata[0]}<br>Percentage(%)=%{x}<br>Platform=%{y}<extra></extra>",
         "legendgroup": "18-29",
         "marker": {
          "color": "#003366",
          "symbol": "circle"
         },
         "mode": "markers",
         "name": "18-29",
         "orientation": "h",
         "showlegend": true,
         "type": "scatter",
         "x": [
          67,
          78,
          32,
          45,
          44,
          65,
          62,
          42,
          32,
          93
         ],
         "xaxis": "x",
         "y": [
          "Facebook",
          "Instagram",
          "Linked In",
          "Pinterest",
          "Reddit",
          "Snapchat",
          "TikTok",
          "Twitter",
          "Whats App",
          "YouTube"
         ],
         "yaxis": "y"
        },
        {
         "customdata": [
          [
           "30-49"
          ],
          [
           "30-49"
          ],
          [
           "30-49"
          ],
          [
           "30-49"
          ],
          [
           "30-49"
          ],
          [
           "30-49"
          ],
          [
           "30-49"
          ],
          [
           "30-49"
          ],
          [
           "30-49"
          ],
          [
           "30-49"
          ]
         ],
         "hovertemplate": "Age Group=%{customdata[0]}<br>Percentage(%)=%{x}<br>Platform=%{y}<extra></extra>",
         "legendgroup": "30-49",
         "marker": {
          "color": "#336699",
          "symbol": "circle"
         },
         "mode": "markers",
         "name": "30-49",
         "orientation": "h",
         "showlegend": true,
         "type": "scatter",
         "x": [
          75,
          59,
          40,
          40,
          31,
          30,
          39,
          27,
          38,
          92
         ],
         "xaxis": "x",
         "y": [
          "Facebook",
          "Instagram",
          "Linked In",
          "Pinterest",
          "Reddit",
          "Snapchat",
          "TikTok",
          "Twitter",
          "Whats App",
          "YouTube"
         ],
         "yaxis": "y"
        },
        {
         "customdata": [
          [
           "50-64"
          ],
          [
           "50-64"
          ],
          [
           "50-64"
          ],
          [
           "50-64"
          ],
          [
           "50-64"
          ],
          [
           "50-64"
          ],
          [
           "50-64"
          ],
          [
           "50-64"
          ],
          [
           "50-64"
          ],
          [
           "50-64"
          ]
         ],
         "hovertemplate": "Age Group=%{customdata[0]}<br>Percentage(%)=%{x}<br>Platform=%{y}<extra></extra>",
         "legendgroup": "50-64",
         "marker": {
          "color": "#99CC99",
          "symbol": "circle"
         },
         "mode": "markers",
         "name": "50-64",
         "orientation": "h",
         "showlegend": true,
         "type": "scatter",
         "x": [
          69,
          35,
          31,
          33,
          11,
          13,
          24,
          17,
          29,
          83
         ],
         "xaxis": "x",
         "y": [
          "Facebook",
          "Instagram",
          "Linked In",
          "Pinterest",
          "Reddit",
          "Snapchat",
          "TikTok",
          "Twitter",
          "Whats App",
          "YouTube"
         ],
         "yaxis": "y"
        },
        {
         "customdata": [
          [
           "65+"
          ],
          [
           "65+"
          ],
          [
           "65+"
          ],
          [
           "65+"
          ],
          [
           "65+"
          ],
          [
           "65+"
          ],
          [
           "65+"
          ],
          [
           "65+"
          ],
          [
           "65+"
          ],
          [
           "65+"
          ]
         ],
         "hovertemplate": "Age Group=%{customdata[0]}<br>Percentage(%)=%{x}<br>Platform=%{y}<extra></extra>",
         "legendgroup": "65+",
         "marker": {
          "color": "#99CC33",
          "symbol": "circle"
         },
         "mode": "markers",
         "name": "65+",
         "orientation": "h",
         "showlegend": true,
         "type": "scatter",
         "x": [
          58,
          15,
          12,
          21,
          3,
          4,
          10,
          6,
          16,
          60
         ],
         "xaxis": "x",
         "y": [
          "Facebook",
          "Instagram",
          "Linked In",
          "Pinterest",
          "Reddit",
          "Snapchat",
          "TikTok",
          "Twitter",
          "Whats App",
          "YouTube"
         ],
         "yaxis": "y"
        },
        {
         "line": {
          "color": "gray",
          "width": 7
         },
         "mode": "lines",
         "opacity": 0.15,
         "showlegend": false,
         "type": "scatter",
         "x": [
          58,
          75
         ],
         "y": [
          "Facebook",
          "Facebook"
         ]
        },
        {
         "line": {
          "color": "gray",
          "width": 7
         },
         "mode": "lines",
         "opacity": 0.15,
         "showlegend": false,
         "type": "scatter",
         "x": [
          15,
          78
         ],
         "y": [
          "Instagram",
          "Instagram"
         ]
        },
        {
         "line": {
          "color": "gray",
          "width": 7
         },
         "mode": "lines",
         "opacity": 0.15,
         "showlegend": false,
         "type": "scatter",
         "x": [
          12,
          40
         ],
         "y": [
          "Linked In",
          "Linked In"
         ]
        },
        {
         "line": {
          "color": "gray",
          "width": 7
         },
         "mode": "lines",
         "opacity": 0.15,
         "showlegend": false,
         "type": "scatter",
         "x": [
          21,
          45
         ],
         "y": [
          "Pinterest",
          "Pinterest"
         ]
        },
        {
         "line": {
          "color": "gray",
          "width": 7
         },
         "mode": "lines",
         "opacity": 0.15,
         "showlegend": false,
         "type": "scatter",
         "x": [
          3,
          44
         ],
         "y": [
          "Reddit",
          "Reddit"
         ]
        },
        {
         "line": {
          "color": "gray",
          "width": 7
         },
         "mode": "lines",
         "opacity": 0.15,
         "showlegend": false,
         "type": "scatter",
         "x": [
          4,
          65
         ],
         "y": [
          "Snapchat",
          "Snapchat"
         ]
        },
        {
         "line": {
          "color": "gray",
          "width": 7
         },
         "mode": "lines",
         "opacity": 0.15,
         "showlegend": false,
         "type": "scatter",
         "x": [
          10,
          62
         ],
         "y": [
          "TikTok",
          "TikTok"
         ]
        },
        {
         "line": {
          "color": "gray",
          "width": 7
         },
         "mode": "lines",
         "opacity": 0.15,
         "showlegend": false,
         "type": "scatter",
         "x": [
          6,
          42
         ],
         "y": [
          "Twitter",
          "Twitter"
         ]
        },
        {
         "line": {
          "color": "gray",
          "width": 7
         },
         "mode": "lines",
         "opacity": 0.15,
         "showlegend": false,
         "type": "scatter",
         "x": [
          16,
          38
         ],
         "y": [
          "Whats App",
          "Whats App"
         ]
        },
        {
         "line": {
          "color": "gray",
          "width": 7
         },
         "mode": "lines",
         "opacity": 0.15,
         "showlegend": false,
         "type": "scatter",
         "x": [
          60,
          93
         ],
         "y": [
          "YouTube",
          "YouTube"
         ]
        }
       ],
       "layout": {
        "annotations": [
         {
          "font": {
           "color": "#003366",
           "size": 12
          },
          "showarrow": false,
          "text": "67%",
          "x": 67,
          "y": "Facebook",
          "yshift": 10
         },
         {
          "font": {
           "color": "#003366",
           "size": 12
          },
          "showarrow": false,
          "text": "78%",
          "x": 78,
          "y": "Instagram",
          "yshift": 10
         },
         {
          "font": {
           "color": "#003366",
           "size": 12
          },
          "showarrow": false,
          "text": "32%",
          "x": 32,
          "y": "Linked In",
          "yshift": 10
         },
         {
          "font": {
           "color": "#003366",
           "size": 12
          },
          "showarrow": false,
          "text": "45%",
          "x": 45,
          "y": "Pinterest",
          "yshift": 10
         },
         {
          "font": {
           "color": "#003366",
           "size": 12
          },
          "showarrow": false,
          "text": "44%",
          "x": 44,
          "y": "Reddit",
          "yshift": 10
         },
         {
          "font": {
           "color": "#003366",
           "size": 12
          },
          "showarrow": false,
          "text": "65%",
          "x": 65,
          "y": "Snapchat",
          "yshift": 10
         },
         {
          "font": {
           "color": "#003366",
           "size": 12
          },
          "showarrow": false,
          "text": "62%",
          "x": 62,
          "y": "TikTok",
          "yshift": 10
         },
         {
          "font": {
           "color": "#003366",
           "size": 12
          },
          "showarrow": false,
          "text": "42%",
          "x": 42,
          "y": "Twitter",
          "yshift": 10
         },
         {
          "font": {
           "color": "#003366",
           "size": 12
          },
          "showarrow": false,
          "text": "32%",
          "x": 32,
          "y": "Whats App",
          "yshift": 10
         },
         {
          "font": {
           "color": "#003366",
           "size": 12
          },
          "showarrow": false,
          "text": "93%",
          "x": 93,
          "y": "YouTube",
          "yshift": 10
         },
         {
          "font": {
           "color": "#336699",
           "size": 12
          },
          "showarrow": false,
          "text": "75%",
          "x": 75,
          "y": "Facebook",
          "yshift": 10
         },
         {
          "font": {
           "color": "#336699",
           "size": 12
          },
          "showarrow": false,
          "text": "59%",
          "x": 59,
          "y": "Instagram",
          "yshift": 10
         },
         {
          "font": {
           "color": "#336699",
           "size": 12
          },
          "showarrow": false,
          "text": "40%",
          "x": 40,
          "y": "Linked In",
          "yshift": 10
         },
         {
          "font": {
           "color": "#336699",
           "size": 12
          },
          "showarrow": false,
          "text": "40%",
          "x": 40,
          "y": "Pinterest",
          "yshift": 10
         },
         {
          "font": {
           "color": "#336699",
           "size": 12
          },
          "showarrow": false,
          "text": "31%",
          "x": 31,
          "y": "Reddit",
          "yshift": 10
         },
         {
          "font": {
           "color": "#336699",
           "size": 12
          },
          "showarrow": false,
          "text": "30%",
          "x": 30,
          "y": "Snapchat",
          "yshift": 10
         },
         {
          "font": {
           "color": "#336699",
           "size": 12
          },
          "showarrow": false,
          "text": "39%",
          "x": 39,
          "y": "TikTok",
          "yshift": 10
         },
         {
          "font": {
           "color": "#336699",
           "size": 12
          },
          "showarrow": false,
          "text": "27%",
          "x": 27,
          "y": "Twitter",
          "yshift": 10
         },
         {
          "font": {
           "color": "#336699",
           "size": 12
          },
          "showarrow": false,
          "text": "38%",
          "x": 38,
          "y": "Whats App",
          "yshift": 10
         },
         {
          "font": {
           "color": "#336699",
           "size": 12
          },
          "showarrow": false,
          "text": "92%",
          "x": 92,
          "y": "YouTube",
          "yshift": 10
         },
         {
          "font": {
           "color": "#99CC99",
           "size": 12
          },
          "showarrow": false,
          "text": "69%",
          "x": 69,
          "y": "Facebook",
          "yshift": 10
         },
         {
          "font": {
           "color": "#99CC99",
           "size": 12
          },
          "showarrow": false,
          "text": "35%",
          "x": 35,
          "y": "Instagram",
          "yshift": 10
         },
         {
          "font": {
           "color": "#99CC99",
           "size": 12
          },
          "showarrow": false,
          "text": "31%",
          "x": 31,
          "y": "Linked In",
          "yshift": 10
         },
         {
          "font": {
           "color": "#99CC99",
           "size": 12
          },
          "showarrow": false,
          "text": "33%",
          "x": 33,
          "y": "Pinterest",
          "yshift": 10
         },
         {
          "font": {
           "color": "#99CC99",
           "size": 12
          },
          "showarrow": false,
          "text": "11%",
          "x": 11,
          "y": "Reddit",
          "yshift": 10
         },
         {
          "font": {
           "color": "#99CC99",
           "size": 12
          },
          "showarrow": false,
          "text": "13%",
          "x": 13,
          "y": "Snapchat",
          "yshift": 10
         },
         {
          "font": {
           "color": "#99CC99",
           "size": 12
          },
          "showarrow": false,
          "text": "24%",
          "x": 24,
          "y": "TikTok",
          "yshift": 10
         },
         {
          "font": {
           "color": "#99CC99",
           "size": 12
          },
          "showarrow": false,
          "text": "17%",
          "x": 17,
          "y": "Twitter",
          "yshift": 10
         },
         {
          "font": {
           "color": "#99CC99",
           "size": 12
          },
          "showarrow": false,
          "text": "29%",
          "x": 29,
          "y": "Whats App",
          "yshift": 10
         },
         {
          "font": {
           "color": "#99CC99",
           "size": 12
          },
          "showarrow": false,
          "text": "83%",
          "x": 83,
          "y": "YouTube",
          "yshift": 10
         },
         {
          "font": {
           "color": "#99CC33",
           "size": 12
          },
          "showarrow": false,
          "text": "58%",
          "x": 58,
          "y": "Facebook",
          "yshift": 10
         },
         {
          "font": {
           "color": "#99CC33",
           "size": 12
          },
          "showarrow": false,
          "text": "15%",
          "x": 15,
          "y": "Instagram",
          "yshift": 10
         },
         {
          "font": {
           "color": "#99CC33",
           "size": 12
          },
          "showarrow": false,
          "text": "12%",
          "x": 12,
          "y": "Linked In",
          "yshift": 10
         },
         {
          "font": {
           "color": "#99CC33",
           "size": 12
          },
          "showarrow": false,
          "text": "21%",
          "x": 21,
          "y": "Pinterest",
          "yshift": 10
         },
         {
          "font": {
           "color": "#99CC33",
           "size": 12
          },
          "showarrow": false,
          "text": "3%",
          "x": 3,
          "y": "Reddit",
          "yshift": 10
         },
         {
          "font": {
           "color": "#99CC33",
           "size": 12
          },
          "showarrow": false,
          "text": "4%",
          "x": 4,
          "y": "Snapchat",
          "yshift": 10
         },
         {
          "font": {
           "color": "#99CC33",
           "size": 12
          },
          "showarrow": false,
          "text": "10%",
          "x": 10,
          "y": "TikTok",
          "yshift": 10
         },
         {
          "font": {
           "color": "#99CC33",
           "size": 12
          },
          "showarrow": false,
          "text": "6%",
          "x": 6,
          "y": "Twitter",
          "yshift": 10
         },
         {
          "font": {
           "color": "#99CC33",
           "size": 12
          },
          "showarrow": false,
          "text": "16%",
          "x": 16,
          "y": "Whats App",
          "yshift": 10
         },
         {
          "font": {
           "color": "#99CC33",
           "size": 12
          },
          "showarrow": false,
          "text": "60%",
          "x": 60,
          "y": "YouTube",
          "yshift": 10
         },
         {
          "bgcolor": "lightgray",
          "font": {
           "color": "black",
           "size": 10
          },
          "showarrow": false,
          "text": "+9",
          "x": 105,
          "xanchor": "left",
          "y": "Facebook"
         },
         {
          "bgcolor": "lightgray",
          "font": {
           "color": "black",
           "size": 10
          },
          "showarrow": false,
          "text": "+63",
          "x": 105,
          "xanchor": "left",
          "y": "Instagram"
         },
         {
          "bgcolor": "lightgray",
          "font": {
           "color": "black",
           "size": 10
          },
          "showarrow": false,
          "text": "+20",
          "x": 105,
          "xanchor": "left",
          "y": "Linked In"
         },
         {
          "bgcolor": "lightgray",
          "font": {
           "color": "black",
           "size": 10
          },
          "showarrow": false,
          "text": "+24",
          "x": 105,
          "xanchor": "left",
          "y": "Pinterest"
         },
         {
          "bgcolor": "lightgray",
          "font": {
           "color": "black",
           "size": 10
          },
          "showarrow": false,
          "text": "+41",
          "x": 105,
          "xanchor": "left",
          "y": "Reddit"
         },
         {
          "bgcolor": "lightgray",
          "font": {
           "color": "black",
           "size": 10
          },
          "showarrow": false,
          "text": "+61",
          "x": 105,
          "xanchor": "left",
          "y": "Snapchat"
         },
         {
          "bgcolor": "lightgray",
          "font": {
           "color": "black",
           "size": 10
          },
          "showarrow": false,
          "text": "+52",
          "x": 105,
          "xanchor": "left",
          "y": "TikTok"
         },
         {
          "bgcolor": "lightgray",
          "font": {
           "color": "black",
           "size": 10
          },
          "showarrow": false,
          "text": "+36",
          "x": 105,
          "xanchor": "left",
          "y": "Twitter"
         },
         {
          "bgcolor": "lightgray",
          "font": {
           "color": "black",
           "size": 10
          },
          "showarrow": false,
          "text": "+16",
          "x": 105,
          "xanchor": "left",
          "y": "Whats App"
         },
         {
          "bgcolor": "lightgray",
          "font": {
           "color": "black",
           "size": 10
          },
          "showarrow": false,
          "text": "+33",
          "x": 105,
          "xanchor": "left",
          "y": "YouTube"
         }
        ],
        "height": 800,
        "legend": {
         "title": {
          "text": "Age Groups"
         },
         "tracegroupgap": 0,
         "traceorder": "reversed"
        },
        "margin": {
         "b": 100,
         "l": 100,
         "r": 200,
         "t": 100
        },
        "plot_bgcolor": "white",
        "template": {
         "data": {
          "bar": [
           {
            "error_x": {
             "color": "#2a3f5f"
            },
            "error_y": {
             "color": "#2a3f5f"
            },
            "marker": {
             "line": {
              "color": "#E5ECF6",
              "width": 0.5
             },
             "pattern": {
              "fillmode": "overlay",
              "size": 10,
              "solidity": 0.2
             }
            },
            "type": "bar"
           }
          ],
          "barpolar": [
           {
            "marker": {
             "line": {
              "color": "#E5ECF6",
              "width": 0.5
             },
             "pattern": {
              "fillmode": "overlay",
              "size": 10,
              "solidity": 0.2
             }
            },
            "type": "barpolar"
           }
          ],
          "carpet": [
           {
            "aaxis": {
             "endlinecolor": "#2a3f5f",
             "gridcolor": "white",
             "linecolor": "white",
             "minorgridcolor": "white",
             "startlinecolor": "#2a3f5f"
            },
            "baxis": {
             "endlinecolor": "#2a3f5f",
             "gridcolor": "white",
             "linecolor": "white",
             "minorgridcolor": "white",
             "startlinecolor": "#2a3f5f"
            },
            "type": "carpet"
           }
          ],
          "choropleth": [
           {
            "colorbar": {
             "outlinewidth": 0,
             "ticks": ""
            },
            "type": "choropleth"
           }
          ],
          "contour": [
           {
            "colorbar": {
             "outlinewidth": 0,
             "ticks": ""
            },
            "colorscale": [
             [
              0,
              "#0d0887"
             ],
             [
              0.1111111111111111,
              "#46039f"
             ],
             [
              0.2222222222222222,
              "#7201a8"
             ],
             [
              0.3333333333333333,
              "#9c179e"
             ],
             [
              0.4444444444444444,
              "#bd3786"
             ],
             [
              0.5555555555555556,
              "#d8576b"
             ],
             [
              0.6666666666666666,
              "#ed7953"
             ],
             [
              0.7777777777777778,
              "#fb9f3a"
             ],
             [
              0.8888888888888888,
              "#fdca26"
             ],
             [
              1,
              "#f0f921"
             ]
            ],
            "type": "contour"
           }
          ],
          "contourcarpet": [
           {
            "colorbar": {
             "outlinewidth": 0,
             "ticks": ""
            },
            "type": "contourcarpet"
           }
          ],
          "heatmap": [
           {
            "colorbar": {
             "outlinewidth": 0,
             "ticks": ""
            },
            "colorscale": [
             [
              0,
              "#0d0887"
             ],
             [
              0.1111111111111111,
              "#46039f"
             ],
             [
              0.2222222222222222,
              "#7201a8"
             ],
             [
              0.3333333333333333,
              "#9c179e"
             ],
             [
              0.4444444444444444,
              "#bd3786"
             ],
             [
              0.5555555555555556,
              "#d8576b"
             ],
             [
              0.6666666666666666,
              "#ed7953"
             ],
             [
              0.7777777777777778,
              "#fb9f3a"
             ],
             [
              0.8888888888888888,
              "#fdca26"
             ],
             [
              1,
              "#f0f921"
             ]
            ],
            "type": "heatmap"
           }
          ],
          "heatmapgl": [
           {
            "colorbar": {
             "outlinewidth": 0,
             "ticks": ""
            },
            "colorscale": [
             [
              0,
              "#0d0887"
             ],
             [
              0.1111111111111111,
              "#46039f"
             ],
             [
              0.2222222222222222,
              "#7201a8"
             ],
             [
              0.3333333333333333,
              "#9c179e"
             ],
             [
              0.4444444444444444,
              "#bd3786"
             ],
             [
              0.5555555555555556,
              "#d8576b"
             ],
             [
              0.6666666666666666,
              "#ed7953"
             ],
             [
              0.7777777777777778,
              "#fb9f3a"
             ],
             [
              0.8888888888888888,
              "#fdca26"
             ],
             [
              1,
              "#f0f921"
             ]
            ],
            "type": "heatmapgl"
           }
          ],
          "histogram": [
           {
            "marker": {
             "pattern": {
              "fillmode": "overlay",
              "size": 10,
              "solidity": 0.2
             }
            },
            "type": "histogram"
           }
          ],
          "histogram2d": [
           {
            "colorbar": {
             "outlinewidth": 0,
             "ticks": ""
            },
            "colorscale": [
             [
              0,
              "#0d0887"
             ],
             [
              0.1111111111111111,
              "#46039f"
             ],
             [
              0.2222222222222222,
              "#7201a8"
             ],
             [
              0.3333333333333333,
              "#9c179e"
             ],
             [
              0.4444444444444444,
              "#bd3786"
             ],
             [
              0.5555555555555556,
              "#d8576b"
             ],
             [
              0.6666666666666666,
              "#ed7953"
             ],
             [
              0.7777777777777778,
              "#fb9f3a"
             ],
             [
              0.8888888888888888,
              "#fdca26"
             ],
             [
              1,
              "#f0f921"
             ]
            ],
            "type": "histogram2d"
           }
          ],
          "histogram2dcontour": [
           {
            "colorbar": {
             "outlinewidth": 0,
             "ticks": ""
            },
            "colorscale": [
             [
              0,
              "#0d0887"
             ],
             [
              0.1111111111111111,
              "#46039f"
             ],
             [
              0.2222222222222222,
              "#7201a8"
             ],
             [
              0.3333333333333333,
              "#9c179e"
             ],
             [
              0.4444444444444444,
              "#bd3786"
             ],
             [
              0.5555555555555556,
              "#d8576b"
             ],
             [
              0.6666666666666666,
              "#ed7953"
             ],
             [
              0.7777777777777778,
              "#fb9f3a"
             ],
             [
              0.8888888888888888,
              "#fdca26"
             ],
             [
              1,
              "#f0f921"
             ]
            ],
            "type": "histogram2dcontour"
           }
          ],
          "mesh3d": [
           {
            "colorbar": {
             "outlinewidth": 0,
             "ticks": ""
            },
            "type": "mesh3d"
           }
          ],
          "parcoords": [
           {
            "line": {
             "colorbar": {
              "outlinewidth": 0,
              "ticks": ""
             }
            },
            "type": "parcoords"
           }
          ],
          "pie": [
           {
            "automargin": true,
            "type": "pie"
           }
          ],
          "scatter": [
           {
            "fillpattern": {
             "fillmode": "overlay",
             "size": 10,
             "solidity": 0.2
            },
            "type": "scatter"
           }
          ],
          "scatter3d": [
           {
            "line": {
             "colorbar": {
              "outlinewidth": 0,
              "ticks": ""
             }
            },
            "marker": {
             "colorbar": {
              "outlinewidth": 0,
              "ticks": ""
             }
            },
            "type": "scatter3d"
           }
          ],
          "scattercarpet": [
           {
            "marker": {
             "colorbar": {
              "outlinewidth": 0,
              "ticks": ""
             }
            },
            "type": "scattercarpet"
           }
          ],
          "scattergeo": [
           {
            "marker": {
             "colorbar": {
              "outlinewidth": 0,
              "ticks": ""
             }
            },
            "type": "scattergeo"
           }
          ],
          "scattergl": [
           {
            "marker": {
             "colorbar": {
              "outlinewidth": 0,
              "ticks": ""
             }
            },
            "type": "scattergl"
           }
          ],
          "scattermapbox": [
           {
            "marker": {
             "colorbar": {
              "outlinewidth": 0,
              "ticks": ""
             }
            },
            "type": "scattermapbox"
           }
          ],
          "scatterpolar": [
           {
            "marker": {
             "colorbar": {
              "outlinewidth": 0,
              "ticks": ""
             }
            },
            "type": "scatterpolar"
           }
          ],
          "scatterpolargl": [
           {
            "marker": {
             "colorbar": {
              "outlinewidth": 0,
              "ticks": ""
             }
            },
            "type": "scatterpolargl"
           }
          ],
          "scatterternary": [
           {
            "marker": {
             "colorbar": {
              "outlinewidth": 0,
              "ticks": ""
             }
            },
            "type": "scatterternary"
           }
          ],
          "surface": [
           {
            "colorbar": {
             "outlinewidth": 0,
             "ticks": ""
            },
            "colorscale": [
             [
              0,
              "#0d0887"
             ],
             [
              0.1111111111111111,
              "#46039f"
             ],
             [
              0.2222222222222222,
              "#7201a8"
             ],
             [
              0.3333333333333333,
              "#9c179e"
             ],
             [
              0.4444444444444444,
              "#bd3786"
             ],
             [
              0.5555555555555556,
              "#d8576b"
             ],
             [
              0.6666666666666666,
              "#ed7953"
             ],
             [
              0.7777777777777778,
              "#fb9f3a"
             ],
             [
              0.8888888888888888,
              "#fdca26"
             ],
             [
              1,
              "#f0f921"
             ]
            ],
            "type": "surface"
           }
          ],
          "table": [
           {
            "cells": {
             "fill": {
              "color": "#EBF0F8"
             },
             "line": {
              "color": "white"
             }
            },
            "header": {
             "fill": {
              "color": "#C8D4E3"
             },
             "line": {
              "color": "white"
             }
            },
            "type": "table"
           }
          ]
         },
         "layout": {
          "annotationdefaults": {
           "arrowcolor": "#2a3f5f",
           "arrowhead": 0,
           "arrowwidth": 1
          },
          "autotypenumbers": "strict",
          "coloraxis": {
           "colorbar": {
            "outlinewidth": 0,
            "ticks": ""
           }
          },
          "colorscale": {
           "diverging": [
            [
             0,
             "#8e0152"
            ],
            [
             0.1,
             "#c51b7d"
            ],
            [
             0.2,
             "#de77ae"
            ],
            [
             0.3,
             "#f1b6da"
            ],
            [
             0.4,
             "#fde0ef"
            ],
            [
             0.5,
             "#f7f7f7"
            ],
            [
             0.6,
             "#e6f5d0"
            ],
            [
             0.7,
             "#b8e186"
            ],
            [
             0.8,
             "#7fbc41"
            ],
            [
             0.9,
             "#4d9221"
            ],
            [
             1,
             "#276419"
            ]
           ],
           "sequential": [
            [
             0,
             "#0d0887"
            ],
            [
             0.1111111111111111,
             "#46039f"
            ],
            [
             0.2222222222222222,
             "#7201a8"
            ],
            [
             0.3333333333333333,
             "#9c179e"
            ],
            [
             0.4444444444444444,
             "#bd3786"
            ],
            [
             0.5555555555555556,
             "#d8576b"
            ],
            [
             0.6666666666666666,
             "#ed7953"
            ],
            [
             0.7777777777777778,
             "#fb9f3a"
            ],
            [
             0.8888888888888888,
             "#fdca26"
            ],
            [
             1,
             "#f0f921"
            ]
           ],
           "sequentialminus": [
            [
             0,
             "#0d0887"
            ],
            [
             0.1111111111111111,
             "#46039f"
            ],
            [
             0.2222222222222222,
             "#7201a8"
            ],
            [
             0.3333333333333333,
             "#9c179e"
            ],
            [
             0.4444444444444444,
             "#bd3786"
            ],
            [
             0.5555555555555556,
             "#d8576b"
            ],
            [
             0.6666666666666666,
             "#ed7953"
            ],
            [
             0.7777777777777778,
             "#fb9f3a"
            ],
            [
             0.8888888888888888,
             "#fdca26"
            ],
            [
             1,
             "#f0f921"
            ]
           ]
          },
          "colorway": [
           "#636efa",
           "#EF553B",
           "#00cc96",
           "#ab63fa",
           "#FFA15A",
           "#19d3f3",
           "#FF6692",
           "#B6E880",
           "#FF97FF",
           "#FECB52"
          ],
          "font": {
           "color": "#2a3f5f"
          },
          "geo": {
           "bgcolor": "white",
           "lakecolor": "white",
           "landcolor": "#E5ECF6",
           "showlakes": true,
           "showland": true,
           "subunitcolor": "white"
          },
          "hoverlabel": {
           "align": "left"
          },
          "hovermode": "closest",
          "mapbox": {
           "style": "light"
          },
          "paper_bgcolor": "white",
          "plot_bgcolor": "#E5ECF6",
          "polar": {
           "angularaxis": {
            "gridcolor": "white",
            "linecolor": "white",
            "ticks": ""
           },
           "bgcolor": "#E5ECF6",
           "radialaxis": {
            "gridcolor": "white",
            "linecolor": "white",
            "ticks": ""
           }
          },
          "scene": {
           "xaxis": {
            "backgroundcolor": "#E5ECF6",
            "gridcolor": "white",
            "gridwidth": 2,
            "linecolor": "white",
            "showbackground": true,
            "ticks": "",
            "zerolinecolor": "white"
           },
           "yaxis": {
            "backgroundcolor": "#E5ECF6",
            "gridcolor": "white",
            "gridwidth": 2,
            "linecolor": "white",
            "showbackground": true,
            "ticks": "",
            "zerolinecolor": "white"
           },
           "zaxis": {
            "backgroundcolor": "#E5ECF6",
            "gridcolor": "white",
            "gridwidth": 2,
            "linecolor": "white",
            "showbackground": true,
            "ticks": "",
            "zerolinecolor": "white"
           }
          },
          "shapedefaults": {
           "line": {
            "color": "#2a3f5f"
           }
          },
          "ternary": {
           "aaxis": {
            "gridcolor": "white",
            "linecolor": "white",
            "ticks": ""
           },
           "baxis": {
            "gridcolor": "white",
            "linecolor": "white",
            "ticks": ""
           },
           "bgcolor": "#E5ECF6",
           "caxis": {
            "gridcolor": "white",
            "linecolor": "white",
            "ticks": ""
           }
          },
          "title": {
           "x": 0.05
          },
          "xaxis": {
           "automargin": true,
           "gridcolor": "white",
           "linecolor": "white",
           "ticks": "",
           "title": {
            "standoff": 15
           },
           "zerolinecolor": "white",
           "zerolinewidth": 2
          },
          "yaxis": {
           "automargin": true,
           "gridcolor": "white",
           "linecolor": "white",
           "ticks": "",
           "title": {
            "standoff": 15
           },
           "zerolinecolor": "white",
           "zerolinewidth": 2
          }
         }
        },
        "title": {
         "text": "Age Gaps in Social Media Usage Across Platforms"
        },
        "width": 1000,
        "xaxis": {
         "anchor": "y",
         "domain": [
          0,
          1
         ],
         "range": [
          0,
          110
         ],
         "showgrid": false,
         "tickvals": [
          0,
          20,
          40,
          60,
          80,
          100
         ],
         "title": {
          "text": "Percentage of U.S. adults in each age group who say they ever use"
         }
        },
        "yaxis": {
         "anchor": "x",
         "domain": [
          0,
          1
         ],
         "showgrid": false,
         "title": {
          "text": ""
         }
        }
       }
      }
     },
     "metadata": {},
     "output_type": "display_data"
    }
   ],
   "source": [
    "# Create a scatter plot for each age group\n",
    "fig = px.scatter(\n",
    "    df_long,\n",
    "    x='Percentage',\n",
    "    y='Platform',\n",
    "    color='Age Group',\n",
    "    color_discrete_map=age_colors,\n",
    "    labels={'Percentage': 'Percentage(%)'},\n",
    "    hover_data={'Percentage': True, 'Platform': True, 'Age Group': True},\n",
    "    size_max=10  # Set a maximum marker size if needed\n",
    ")\n",
    "\n",
    "# Add lines connecting the minimum and maximum percentages for each platform\n",
    "for platform in df_long['Platform'].unique():\n",
    "    platform_data = df_long[df_long['Platform'] == platform]\n",
    "    # Get all valid percentages for the platform\n",
    "    percentages = platform_data['Percentage'].dropna()\n",
    "    if len(percentages) >= 2:\n",
    "        min_percentage = percentages.min()\n",
    "        max_percentage = percentages.max()\n",
    "        # Add a line connecting the min and max percentages\n",
    "        fig.add_trace(go.Scatter(\n",
    "            x=[min_percentage, max_percentage],\n",
    "            y=[platform, platform],\n",
    "            mode='lines',\n",
    "            line=dict(color='gray', width=7),\n",
    "            opacity=0.15,\n",
    "            showlegend=False\n",
    "        ))\n",
    "\n",
    "# Add percentage labels above each point\n",
    "for i, row in df_long.iterrows():\n",
    "    fig.add_annotation(\n",
    "        x=row['Percentage'],\n",
    "        y=row['Platform'],\n",
    "        text=f\"{int(row['Percentage'])}%\",\n",
    "        showarrow=False,\n",
    "        yshift=10,  # Adjust vertical position of the label\n",
    "        font=dict(size=12, color=age_colors[row['Age Group']])\n",
    "    )\n",
    "\n",
    "# Add difference value labels on the right side with gray background\n",
    "for i, row in age_gap_diff.iterrows():\n",
    "    diff_value = row['Youngest - oldest DIFF']\n",
    "    diff_text = f\"+{int(diff_value)}\" if not np.isnan(diff_value) else 'N/A'\n",
    "    fig.add_annotation(\n",
    "        x=105,\n",
    "        y=row['Platform'],\n",
    "        text=diff_text,\n",
    "        showarrow=False,\n",
    "        xanchor='left',\n",
    "        bgcolor='lightgray',\n",
    "        font=dict(size=10, color='black')\n",
    "    )\n",
    "\n",
    "# Update layout to match the desired style\n",
    "fig.update_layout(\n",
    "    title='Age Gaps in Social Media Usage Across Platforms',\n",
    "    xaxis_title='Percentage of U.S. adults in each age group who say they ever use',\n",
    "    xaxis=dict(range=[0, 110], tickvals=np.arange(0, 101, 20)),\n",
    "    yaxis_title='',\n",
    "    plot_bgcolor='white',\n",
    "    legend_title_text='Age Groups',\n",
    "    legend_traceorder='reversed',\n",
    "    width=1000,\n",
    "    height=800\n",
    ")\n",
    "\n",
    "# Remove gridlines and adjust margins\n",
    "fig.update_xaxes(showgrid=False)\n",
    "fig.update_yaxes(showgrid=False)\n",
    "fig.update_layout(margin=dict(l=100, r=200, t=100, b=100))\n",
    "\n",
    "# Show the plot\n",
    "fig.show()"
   ]
  },
  {
   "cell_type": "code",
   "execution_count": null,
   "metadata": {},
   "outputs": [],
   "source": []
  }
 ],
 "metadata": {
  "kernelspec": {
   "display_name": "base",
   "language": "python",
   "name": "python3"
  },
  "language_info": {
   "codemirror_mode": {
    "name": "ipython",
    "version": 3
   },
   "file_extension": ".py",
   "mimetype": "text/x-python",
   "name": "python",
   "nbconvert_exporter": "python",
   "pygments_lexer": "ipython3",
   "version": "3.12.4"
  }
 },
 "nbformat": 4,
 "nbformat_minor": 2
}
