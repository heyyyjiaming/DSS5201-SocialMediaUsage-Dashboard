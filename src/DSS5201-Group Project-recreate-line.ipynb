{
 "cells": [
  {
   "cell_type": "code",
   "execution_count": 1,
   "metadata": {},
   "outputs": [
    {
     "data": {
      "text/html": [
       "\n",
       "            <div id=\"acOhrJ\"></div>\n",
       "            <script type=\"text/javascript\" data-lets-plot-script=\"library\">\n",
       "                if(!window.letsPlotCallQueue) {\n",
       "                    window.letsPlotCallQueue = [];\n",
       "                }; \n",
       "                window.letsPlotCall = function(f) {\n",
       "                    window.letsPlotCallQueue.push(f);\n",
       "                };\n",
       "                (function() {\n",
       "                    var script = document.createElement(\"script\");\n",
       "                    script.type = \"text/javascript\";\n",
       "                    script.src = \"https://cdn.jsdelivr.net/gh/JetBrains/lets-plot@v4.5.1/js-package/distr/lets-plot.min.js\";\n",
       "                    script.onload = function() {\n",
       "                        window.letsPlotCall = function(f) {f();};\n",
       "                        window.letsPlotCallQueue.forEach(function(f) {f();});\n",
       "                        window.letsPlotCallQueue = [];\n",
       "                        \n",
       "                    };\n",
       "                    script.onerror = function(event) {\n",
       "                        window.letsPlotCall = function(f) {};    // noop\n",
       "                        window.letsPlotCallQueue = [];\n",
       "                        var div = document.createElement(\"div\");\n",
       "                        div.style.color = 'darkred';\n",
       "                        div.textContent = 'Error loading Lets-Plot JS';\n",
       "                        document.getElementById(\"acOhrJ\").appendChild(div);\n",
       "                    };\n",
       "                    var e = document.getElementById(\"acOhrJ\");\n",
       "                    e.appendChild(script);\n",
       "                })()\n",
       "            </script>\n",
       "            "
      ]
     },
     "metadata": {},
     "output_type": "display_data"
    }
   ],
   "source": [
    "import numpy as np\n",
    "import pandas as pd\n",
    "import matplotlib.pyplot as plt\n",
    "import seaborn as sns\n",
    "from plotnine import *\n",
    "from lets_plot import *\n",
    "LetsPlot.setup_html()"
   ]
  },
  {
   "cell_type": "code",
   "execution_count": 2,
   "metadata": {},
   "outputs": [
    {
     "data": {
      "text/html": [
       "<div>\n",
       "<style scoped>\n",
       "    .dataframe tbody tr th:only-of-type {\n",
       "        vertical-align: middle;\n",
       "    }\n",
       "\n",
       "    .dataframe tbody tr th {\n",
       "        vertical-align: top;\n",
       "    }\n",
       "\n",
       "    .dataframe thead th {\n",
       "        text-align: right;\n",
       "    }\n",
       "</style>\n",
       "<table border=\"1\" class=\"dataframe\">\n",
       "  <thead>\n",
       "    <tr style=\"text-align: right;\">\n",
       "      <th></th>\n",
       "      <th>Year</th>\n",
       "      <th>YouTube</th>\n",
       "      <th>Facebook</th>\n",
       "      <th>Instagram</th>\n",
       "      <th>Pinterest</th>\n",
       "      <th>TikTok</th>\n",
       "      <th>LinkedIn</th>\n",
       "      <th>WhatsApp</th>\n",
       "      <th>Snapchat</th>\n",
       "      <th>Twitter (X)</th>\n",
       "      <th>Reddit</th>\n",
       "      <th>BeReal</th>\n",
       "      <th>Nextdoor</th>\n",
       "    </tr>\n",
       "  </thead>\n",
       "  <tbody>\n",
       "    <tr>\n",
       "      <th>0</th>\n",
       "      <td>8/5/2012</td>\n",
       "      <td>NaN</td>\n",
       "      <td>54%</td>\n",
       "      <td>9%</td>\n",
       "      <td>10%</td>\n",
       "      <td>NaN</td>\n",
       "      <td>16%</td>\n",
       "      <td>NaN</td>\n",
       "      <td>NaN</td>\n",
       "      <td>13%</td>\n",
       "      <td>NaN</td>\n",
       "      <td>NaN</td>\n",
       "      <td>NaN</td>\n",
       "    </tr>\n",
       "    <tr>\n",
       "      <th>1</th>\n",
       "      <td>8/7/2012</td>\n",
       "      <td>NaN</td>\n",
       "      <td>NaN</td>\n",
       "      <td>NaN</td>\n",
       "      <td>NaN</td>\n",
       "      <td>NaN</td>\n",
       "      <td>NaN</td>\n",
       "      <td>NaN</td>\n",
       "      <td>NaN</td>\n",
       "      <td>14%</td>\n",
       "      <td>NaN</td>\n",
       "      <td>NaN</td>\n",
       "      <td>NaN</td>\n",
       "    </tr>\n",
       "    <tr>\n",
       "      <th>2</th>\n",
       "      <td>12/9/2012</td>\n",
       "      <td>NaN</td>\n",
       "      <td>NaN</td>\n",
       "      <td>11%</td>\n",
       "      <td>13%</td>\n",
       "      <td>NaN</td>\n",
       "      <td>NaN</td>\n",
       "      <td>NaN</td>\n",
       "      <td>NaN</td>\n",
       "      <td>13%</td>\n",
       "      <td>NaN</td>\n",
       "      <td>NaN</td>\n",
       "      <td>NaN</td>\n",
       "    </tr>\n",
       "    <tr>\n",
       "      <th>3</th>\n",
       "      <td>12/16/2012</td>\n",
       "      <td>NaN</td>\n",
       "      <td>57%</td>\n",
       "      <td>NaN</td>\n",
       "      <td>NaN</td>\n",
       "      <td>NaN</td>\n",
       "      <td>NaN</td>\n",
       "      <td>NaN</td>\n",
       "      <td>NaN</td>\n",
       "      <td>NaN</td>\n",
       "      <td>NaN</td>\n",
       "      <td>NaN</td>\n",
       "      <td>NaN</td>\n",
       "    </tr>\n",
       "    <tr>\n",
       "      <th>4</th>\n",
       "      <td>5/19/2013</td>\n",
       "      <td>NaN</td>\n",
       "      <td>NaN</td>\n",
       "      <td>NaN</td>\n",
       "      <td>NaN</td>\n",
       "      <td>NaN</td>\n",
       "      <td>NaN</td>\n",
       "      <td>NaN</td>\n",
       "      <td>NaN</td>\n",
       "      <td>15%</td>\n",
       "      <td>NaN</td>\n",
       "      <td>NaN</td>\n",
       "      <td>NaN</td>\n",
       "    </tr>\n",
       "    <tr>\n",
       "      <th>5</th>\n",
       "      <td>7/14/2013</td>\n",
       "      <td>NaN</td>\n",
       "      <td>NaN</td>\n",
       "      <td>NaN</td>\n",
       "      <td>NaN</td>\n",
       "      <td>NaN</td>\n",
       "      <td>NaN</td>\n",
       "      <td>NaN</td>\n",
       "      <td>NaN</td>\n",
       "      <td>16%</td>\n",
       "      <td>NaN</td>\n",
       "      <td>NaN</td>\n",
       "      <td>NaN</td>\n",
       "    </tr>\n",
       "    <tr>\n",
       "      <th>6</th>\n",
       "      <td>9/16/2013</td>\n",
       "      <td>NaN</td>\n",
       "      <td>57%</td>\n",
       "      <td>14%</td>\n",
       "      <td>17%</td>\n",
       "      <td>NaN</td>\n",
       "      <td>17%</td>\n",
       "      <td>NaN</td>\n",
       "      <td>NaN</td>\n",
       "      <td>14%</td>\n",
       "      <td>NaN</td>\n",
       "      <td>NaN</td>\n",
       "      <td>NaN</td>\n",
       "    </tr>\n",
       "    <tr>\n",
       "      <th>7</th>\n",
       "      <td>9/30/2013</td>\n",
       "      <td>NaN</td>\n",
       "      <td>NaN</td>\n",
       "      <td>NaN</td>\n",
       "      <td>NaN</td>\n",
       "      <td>NaN</td>\n",
       "      <td>NaN</td>\n",
       "      <td>NaN</td>\n",
       "      <td>NaN</td>\n",
       "      <td>16%</td>\n",
       "      <td>NaN</td>\n",
       "      <td>NaN</td>\n",
       "      <td>NaN</td>\n",
       "    </tr>\n",
       "    <tr>\n",
       "      <th>8</th>\n",
       "      <td>1/26/2014</td>\n",
       "      <td>NaN</td>\n",
       "      <td>NaN</td>\n",
       "      <td>NaN</td>\n",
       "      <td>NaN</td>\n",
       "      <td>NaN</td>\n",
       "      <td>NaN</td>\n",
       "      <td>NaN</td>\n",
       "      <td>NaN</td>\n",
       "      <td>16%</td>\n",
       "      <td>NaN</td>\n",
       "      <td>NaN</td>\n",
       "      <td>NaN</td>\n",
       "    </tr>\n",
       "    <tr>\n",
       "      <th>9</th>\n",
       "      <td>9/21/2014</td>\n",
       "      <td>NaN</td>\n",
       "      <td>58%</td>\n",
       "      <td>21%</td>\n",
       "      <td>22%</td>\n",
       "      <td>NaN</td>\n",
       "      <td>23%</td>\n",
       "      <td>NaN</td>\n",
       "      <td>NaN</td>\n",
       "      <td>19%</td>\n",
       "      <td>NaN</td>\n",
       "      <td>NaN</td>\n",
       "      <td>NaN</td>\n",
       "    </tr>\n",
       "    <tr>\n",
       "      <th>10</th>\n",
       "      <td>4/12/2015</td>\n",
       "      <td>NaN</td>\n",
       "      <td>62%</td>\n",
       "      <td>24%</td>\n",
       "      <td>26%</td>\n",
       "      <td>NaN</td>\n",
       "      <td>22%</td>\n",
       "      <td>NaN</td>\n",
       "      <td>NaN</td>\n",
       "      <td>20%</td>\n",
       "      <td>NaN</td>\n",
       "      <td>NaN</td>\n",
       "      <td>NaN</td>\n",
       "    </tr>\n",
       "    <tr>\n",
       "      <th>11</th>\n",
       "      <td>4/4/2016</td>\n",
       "      <td>NaN</td>\n",
       "      <td>68%</td>\n",
       "      <td>28%</td>\n",
       "      <td>26%</td>\n",
       "      <td>NaN</td>\n",
       "      <td>25%</td>\n",
       "      <td>NaN</td>\n",
       "      <td>NaN</td>\n",
       "      <td>21%</td>\n",
       "      <td>NaN</td>\n",
       "      <td>NaN</td>\n",
       "      <td>NaN</td>\n",
       "    </tr>\n",
       "    <tr>\n",
       "      <th>12</th>\n",
       "      <td>1/10/2018</td>\n",
       "      <td>73%</td>\n",
       "      <td>68%</td>\n",
       "      <td>35%</td>\n",
       "      <td>29%</td>\n",
       "      <td>NaN</td>\n",
       "      <td>25%</td>\n",
       "      <td>22%</td>\n",
       "      <td>27%</td>\n",
       "      <td>24%</td>\n",
       "      <td>NaN</td>\n",
       "      <td>NaN</td>\n",
       "      <td>NaN</td>\n",
       "    </tr>\n",
       "    <tr>\n",
       "      <th>13</th>\n",
       "      <td>2/7/2019</td>\n",
       "      <td>73%</td>\n",
       "      <td>69%</td>\n",
       "      <td>37%</td>\n",
       "      <td>28%</td>\n",
       "      <td>NaN</td>\n",
       "      <td>27%</td>\n",
       "      <td>20%</td>\n",
       "      <td>24%</td>\n",
       "      <td>22%</td>\n",
       "      <td>11%</td>\n",
       "      <td>NaN</td>\n",
       "      <td>NaN</td>\n",
       "    </tr>\n",
       "    <tr>\n",
       "      <th>14</th>\n",
       "      <td>2/8/2021</td>\n",
       "      <td>81%</td>\n",
       "      <td>69%</td>\n",
       "      <td>40%</td>\n",
       "      <td>31%</td>\n",
       "      <td>21%</td>\n",
       "      <td>28%</td>\n",
       "      <td>23%</td>\n",
       "      <td>25%</td>\n",
       "      <td>23%</td>\n",
       "      <td>18%</td>\n",
       "      <td>NaN</td>\n",
       "      <td>13%</td>\n",
       "    </tr>\n",
       "    <tr>\n",
       "      <th>15</th>\n",
       "      <td>9/5/2023</td>\n",
       "      <td>83%</td>\n",
       "      <td>68%</td>\n",
       "      <td>47%</td>\n",
       "      <td>35%</td>\n",
       "      <td>33%</td>\n",
       "      <td>30%</td>\n",
       "      <td>29%</td>\n",
       "      <td>27%</td>\n",
       "      <td>22%</td>\n",
       "      <td>22%</td>\n",
       "      <td>3%</td>\n",
       "      <td>NaN</td>\n",
       "    </tr>\n",
       "  </tbody>\n",
       "</table>\n",
       "</div>"
      ],
      "text/plain": [
       "          Year YouTube Facebook Instagram Pinterest TikTok LinkedIn WhatsApp  \\\n",
       "0     8/5/2012     NaN      54%        9%       10%    NaN      16%      NaN   \n",
       "1     8/7/2012     NaN      NaN       NaN       NaN    NaN      NaN      NaN   \n",
       "2    12/9/2012     NaN      NaN       11%       13%    NaN      NaN      NaN   \n",
       "3   12/16/2012     NaN      57%       NaN       NaN    NaN      NaN      NaN   \n",
       "4    5/19/2013     NaN      NaN       NaN       NaN    NaN      NaN      NaN   \n",
       "5    7/14/2013     NaN      NaN       NaN       NaN    NaN      NaN      NaN   \n",
       "6    9/16/2013     NaN      57%       14%       17%    NaN      17%      NaN   \n",
       "7    9/30/2013     NaN      NaN       NaN       NaN    NaN      NaN      NaN   \n",
       "8    1/26/2014     NaN      NaN       NaN       NaN    NaN      NaN      NaN   \n",
       "9    9/21/2014     NaN      58%       21%       22%    NaN      23%      NaN   \n",
       "10   4/12/2015     NaN      62%       24%       26%    NaN      22%      NaN   \n",
       "11    4/4/2016     NaN      68%       28%       26%    NaN      25%      NaN   \n",
       "12   1/10/2018     73%      68%       35%       29%    NaN      25%      22%   \n",
       "13    2/7/2019     73%      69%       37%       28%    NaN      27%      20%   \n",
       "14    2/8/2021     81%      69%       40%       31%    21%      28%      23%   \n",
       "15    9/5/2023     83%      68%       47%       35%    33%      30%      29%   \n",
       "\n",
       "   Snapchat Twitter (X) Reddit BeReal Nextdoor  \n",
       "0       NaN         13%    NaN    NaN      NaN  \n",
       "1       NaN         14%    NaN    NaN      NaN  \n",
       "2       NaN         13%    NaN    NaN      NaN  \n",
       "3       NaN         NaN    NaN    NaN      NaN  \n",
       "4       NaN         15%    NaN    NaN      NaN  \n",
       "5       NaN         16%    NaN    NaN      NaN  \n",
       "6       NaN         14%    NaN    NaN      NaN  \n",
       "7       NaN         16%    NaN    NaN      NaN  \n",
       "8       NaN         16%    NaN    NaN      NaN  \n",
       "9       NaN         19%    NaN    NaN      NaN  \n",
       "10      NaN         20%    NaN    NaN      NaN  \n",
       "11      NaN         21%    NaN    NaN      NaN  \n",
       "12      27%         24%    NaN    NaN      NaN  \n",
       "13      24%         22%    11%    NaN      NaN  \n",
       "14      25%         23%    18%    NaN      13%  \n",
       "15      27%         22%    22%     3%      NaN  "
      ]
     },
     "execution_count": 2,
     "metadata": {},
     "output_type": "execute_result"
    }
   ],
   "source": [
    "# Read in the data \n",
    "us_social_media = pd.read_csv(\"../data/which_social_media_platforms_are_most_popular_data_2024-01-31-2.csv\")\n",
    "us_social_media"
   ]
  },
  {
   "cell_type": "code",
   "execution_count": 3,
   "metadata": {},
   "outputs": [
    {
     "data": {
      "text/html": [
       "<div>\n",
       "<style scoped>\n",
       "    .dataframe tbody tr th:only-of-type {\n",
       "        vertical-align: middle;\n",
       "    }\n",
       "\n",
       "    .dataframe tbody tr th {\n",
       "        vertical-align: top;\n",
       "    }\n",
       "\n",
       "    .dataframe thead th {\n",
       "        text-align: right;\n",
       "    }\n",
       "</style>\n",
       "<table border=\"1\" class=\"dataframe\">\n",
       "  <thead>\n",
       "    <tr style=\"text-align: right;\">\n",
       "      <th></th>\n",
       "      <th>Year</th>\n",
       "      <th>platform</th>\n",
       "      <th>percentage</th>\n",
       "    </tr>\n",
       "  </thead>\n",
       "  <tbody>\n",
       "    <tr>\n",
       "      <th>0</th>\n",
       "      <td>8/5/2012</td>\n",
       "      <td>YouTube</td>\n",
       "      <td>NaN</td>\n",
       "    </tr>\n",
       "    <tr>\n",
       "      <th>1</th>\n",
       "      <td>8/7/2012</td>\n",
       "      <td>YouTube</td>\n",
       "      <td>NaN</td>\n",
       "    </tr>\n",
       "    <tr>\n",
       "      <th>2</th>\n",
       "      <td>12/9/2012</td>\n",
       "      <td>YouTube</td>\n",
       "      <td>NaN</td>\n",
       "    </tr>\n",
       "    <tr>\n",
       "      <th>3</th>\n",
       "      <td>12/16/2012</td>\n",
       "      <td>YouTube</td>\n",
       "      <td>NaN</td>\n",
       "    </tr>\n",
       "    <tr>\n",
       "      <th>4</th>\n",
       "      <td>5/19/2013</td>\n",
       "      <td>YouTube</td>\n",
       "      <td>NaN</td>\n",
       "    </tr>\n",
       "  </tbody>\n",
       "</table>\n",
       "</div>"
      ],
      "text/plain": [
       "         Year platform percentage\n",
       "0    8/5/2012  YouTube        NaN\n",
       "1    8/7/2012  YouTube        NaN\n",
       "2   12/9/2012  YouTube        NaN\n",
       "3  12/16/2012  YouTube        NaN\n",
       "4   5/19/2013  YouTube        NaN"
      ]
     },
     "execution_count": 3,
     "metadata": {},
     "output_type": "execute_result"
    }
   ],
   "source": [
    "us_social_media_tidy = us_social_media.melt(id_vars = [\"Year\"], var_name = \"platform\", value_name = \"percentage\")\n",
    "us_social_media_tidy.head()"
   ]
  },
  {
   "cell_type": "code",
   "execution_count": 4,
   "metadata": {},
   "outputs": [
    {
     "data": {
      "text/plain": [
       "Year          object\n",
       "platform      object\n",
       "percentage    object\n",
       "dtype: object"
      ]
     },
     "execution_count": 4,
     "metadata": {},
     "output_type": "execute_result"
    }
   ],
   "source": [
    "us_social_media_tidy.dtypes"
   ]
  },
  {
   "cell_type": "code",
   "execution_count": 5,
   "metadata": {},
   "outputs": [
    {
     "data": {
      "text/html": [
       "<div>\n",
       "<style scoped>\n",
       "    .dataframe tbody tr th:only-of-type {\n",
       "        vertical-align: middle;\n",
       "    }\n",
       "\n",
       "    .dataframe tbody tr th {\n",
       "        vertical-align: top;\n",
       "    }\n",
       "\n",
       "    .dataframe thead th {\n",
       "        text-align: right;\n",
       "    }\n",
       "</style>\n",
       "<table border=\"1\" class=\"dataframe\">\n",
       "  <thead>\n",
       "    <tr style=\"text-align: right;\">\n",
       "      <th></th>\n",
       "      <th>Year</th>\n",
       "      <th>platform</th>\n",
       "      <th>percentage</th>\n",
       "    </tr>\n",
       "  </thead>\n",
       "  <tbody>\n",
       "    <tr>\n",
       "      <th>0</th>\n",
       "      <td>2012-08-05</td>\n",
       "      <td>YouTube</td>\n",
       "      <td>NaN</td>\n",
       "    </tr>\n",
       "    <tr>\n",
       "      <th>1</th>\n",
       "      <td>2012-08-07</td>\n",
       "      <td>YouTube</td>\n",
       "      <td>NaN</td>\n",
       "    </tr>\n",
       "    <tr>\n",
       "      <th>2</th>\n",
       "      <td>2012-12-09</td>\n",
       "      <td>YouTube</td>\n",
       "      <td>NaN</td>\n",
       "    </tr>\n",
       "    <tr>\n",
       "      <th>3</th>\n",
       "      <td>2012-12-16</td>\n",
       "      <td>YouTube</td>\n",
       "      <td>NaN</td>\n",
       "    </tr>\n",
       "    <tr>\n",
       "      <th>4</th>\n",
       "      <td>2013-05-19</td>\n",
       "      <td>YouTube</td>\n",
       "      <td>NaN</td>\n",
       "    </tr>\n",
       "  </tbody>\n",
       "</table>\n",
       "</div>"
      ],
      "text/plain": [
       "        Year platform percentage\n",
       "0 2012-08-05  YouTube        NaN\n",
       "1 2012-08-07  YouTube        NaN\n",
       "2 2012-12-09  YouTube        NaN\n",
       "3 2012-12-16  YouTube        NaN\n",
       "4 2013-05-19  YouTube        NaN"
      ]
     },
     "execution_count": 5,
     "metadata": {},
     "output_type": "execute_result"
    }
   ],
   "source": [
    "us_social_media_tidy[\"Year\"] = pd.to_datetime(us_social_media_tidy[\"Year\"])\n",
    "us_social_media_tidy.head()"
   ]
  },
  {
   "cell_type": "code",
   "execution_count": 6,
   "metadata": {},
   "outputs": [
    {
     "data": {
      "text/html": [
       "<div>\n",
       "<style scoped>\n",
       "    .dataframe tbody tr th:only-of-type {\n",
       "        vertical-align: middle;\n",
       "    }\n",
       "\n",
       "    .dataframe tbody tr th {\n",
       "        vertical-align: top;\n",
       "    }\n",
       "\n",
       "    .dataframe thead th {\n",
       "        text-align: right;\n",
       "    }\n",
       "</style>\n",
       "<table border=\"1\" class=\"dataframe\">\n",
       "  <thead>\n",
       "    <tr style=\"text-align: right;\">\n",
       "      <th></th>\n",
       "      <th>Year</th>\n",
       "      <th>platform</th>\n",
       "      <th>percentage</th>\n",
       "    </tr>\n",
       "  </thead>\n",
       "  <tbody>\n",
       "    <tr>\n",
       "      <th>0</th>\n",
       "      <td>2012-08-05</td>\n",
       "      <td>YouTube</td>\n",
       "      <td>NaN</td>\n",
       "    </tr>\n",
       "    <tr>\n",
       "      <th>1</th>\n",
       "      <td>2012-08-07</td>\n",
       "      <td>YouTube</td>\n",
       "      <td>NaN</td>\n",
       "    </tr>\n",
       "    <tr>\n",
       "      <th>2</th>\n",
       "      <td>2012-12-09</td>\n",
       "      <td>YouTube</td>\n",
       "      <td>NaN</td>\n",
       "    </tr>\n",
       "    <tr>\n",
       "      <th>3</th>\n",
       "      <td>2012-12-16</td>\n",
       "      <td>YouTube</td>\n",
       "      <td>NaN</td>\n",
       "    </tr>\n",
       "    <tr>\n",
       "      <th>4</th>\n",
       "      <td>2013-05-19</td>\n",
       "      <td>YouTube</td>\n",
       "      <td>NaN</td>\n",
       "    </tr>\n",
       "    <tr>\n",
       "      <th>...</th>\n",
       "      <td>...</td>\n",
       "      <td>...</td>\n",
       "      <td>...</td>\n",
       "    </tr>\n",
       "    <tr>\n",
       "      <th>187</th>\n",
       "      <td>2016-04-04</td>\n",
       "      <td>Nextdoor</td>\n",
       "      <td>NaN</td>\n",
       "    </tr>\n",
       "    <tr>\n",
       "      <th>188</th>\n",
       "      <td>2018-01-10</td>\n",
       "      <td>Nextdoor</td>\n",
       "      <td>NaN</td>\n",
       "    </tr>\n",
       "    <tr>\n",
       "      <th>189</th>\n",
       "      <td>2019-02-07</td>\n",
       "      <td>Nextdoor</td>\n",
       "      <td>NaN</td>\n",
       "    </tr>\n",
       "    <tr>\n",
       "      <th>190</th>\n",
       "      <td>2021-02-08</td>\n",
       "      <td>Nextdoor</td>\n",
       "      <td>13.0</td>\n",
       "    </tr>\n",
       "    <tr>\n",
       "      <th>191</th>\n",
       "      <td>2023-09-05</td>\n",
       "      <td>Nextdoor</td>\n",
       "      <td>NaN</td>\n",
       "    </tr>\n",
       "  </tbody>\n",
       "</table>\n",
       "<p>192 rows × 3 columns</p>\n",
       "</div>"
      ],
      "text/plain": [
       "          Year  platform  percentage\n",
       "0   2012-08-05   YouTube         NaN\n",
       "1   2012-08-07   YouTube         NaN\n",
       "2   2012-12-09   YouTube         NaN\n",
       "3   2012-12-16   YouTube         NaN\n",
       "4   2013-05-19   YouTube         NaN\n",
       "..         ...       ...         ...\n",
       "187 2016-04-04  Nextdoor         NaN\n",
       "188 2018-01-10  Nextdoor         NaN\n",
       "189 2019-02-07  Nextdoor         NaN\n",
       "190 2021-02-08  Nextdoor        13.0\n",
       "191 2023-09-05  Nextdoor         NaN\n",
       "\n",
       "[192 rows x 3 columns]"
      ]
     },
     "execution_count": 6,
     "metadata": {},
     "output_type": "execute_result"
    }
   ],
   "source": [
    "us_social_media_tidy[\"percentage\"] = us_social_media_tidy[\"percentage\"].str.replace('%', '').astype(float)\n",
    "us_social_media_tidy"
   ]
  },
  {
   "cell_type": "code",
   "execution_count": 7,
   "metadata": {},
   "outputs": [
    {
     "data": {
      "text/html": [
       "   <div id=\"jnXTbM\"></div>\n",
       "   <script type=\"text/javascript\" data-lets-plot-script=\"plot\">\n",
       "   \n",
       "   (function() {\n",
       "   // ----------\n",
       "   \n",
       "   var containerDiv = document.getElementById(\"jnXTbM\");\n",
       "   var observer = new ResizeObserver(function(entries) {\n",
       "       for (let entry of entries) {\n",
       "           var width = containerDiv.clientWidth\n",
       "           if (entry.contentBoxSize && width > 0) {\n",
       "           \n",
       "               // Render plot\n",
       "               if (observer) {\n",
       "                   observer.disconnect();\n",
       "                   observer = null;\n",
       "               }\n",
       "\n",
       "               var plotSpec={\n",
       "\"data\":{\n",
       "\"Year\":[1.3441248E12,1.3442976E12,1.3550112E12,1.355616E12,1.3689216E12,1.37376E12,1.3792896E12,1.3804992E12,1.3906944E12,1.4112576E12,1.4287968E12,1.459728E12,1.5155424E12,1.5494976E12,1.6127424E12,1.693872E12,1.3441248E12,1.3442976E12,1.3550112E12,1.355616E12,1.3689216E12,1.37376E12,1.3792896E12,1.3804992E12,1.3906944E12,1.4112576E12,1.4287968E12,1.459728E12,1.5155424E12,1.5494976E12,1.6127424E12,1.693872E12,1.3441248E12,1.3442976E12,1.3550112E12,1.355616E12,1.3689216E12,1.37376E12,1.3792896E12,1.3804992E12,1.3906944E12,1.4112576E12,1.4287968E12,1.459728E12,1.5155424E12,1.5494976E12,1.6127424E12,1.693872E12,1.3441248E12,1.3442976E12,1.3550112E12,1.355616E12,1.3689216E12,1.37376E12,1.3792896E12,1.3804992E12,1.3906944E12,1.4112576E12,1.4287968E12,1.459728E12,1.5155424E12,1.5494976E12,1.6127424E12,1.693872E12,1.3441248E12,1.3442976E12,1.3550112E12,1.355616E12,1.3689216E12,1.37376E12,1.3792896E12,1.3804992E12,1.3906944E12,1.4112576E12,1.4287968E12,1.459728E12,1.5155424E12,1.5494976E12,1.6127424E12,1.693872E12,1.3441248E12,1.3442976E12,1.3550112E12,1.355616E12,1.3689216E12,1.37376E12,1.3792896E12,1.3804992E12,1.3906944E12,1.4112576E12,1.4287968E12,1.459728E12,1.5155424E12,1.5494976E12,1.6127424E12,1.693872E12,1.3441248E12,1.3442976E12,1.3550112E12,1.355616E12,1.3689216E12,1.37376E12,1.3792896E12,1.3804992E12,1.3906944E12,1.4112576E12,1.4287968E12,1.459728E12,1.5155424E12,1.5494976E12,1.6127424E12,1.693872E12,1.3441248E12,1.3442976E12,1.3550112E12,1.355616E12,1.3689216E12,1.37376E12,1.3792896E12,1.3804992E12,1.3906944E12,1.4112576E12,1.4287968E12,1.459728E12,1.5155424E12,1.5494976E12,1.6127424E12,1.693872E12,1.3441248E12,1.3442976E12,1.3550112E12,1.355616E12,1.3689216E12,1.37376E12,1.3792896E12,1.3804992E12,1.3906944E12,1.4112576E12,1.4287968E12,1.459728E12,1.5155424E12,1.5494976E12,1.6127424E12,1.693872E12,1.3441248E12,1.3442976E12,1.3550112E12,1.355616E12,1.3689216E12,1.37376E12,1.3792896E12,1.3804992E12,1.3906944E12,1.4112576E12,1.4287968E12,1.459728E12,1.5155424E12,1.5494976E12,1.6127424E12,1.693872E12,1.3441248E12,1.3442976E12,1.3550112E12,1.355616E12,1.3689216E12,1.37376E12,1.3792896E12,1.3804992E12,1.3906944E12,1.4112576E12,1.4287968E12,1.459728E12,1.5155424E12,1.5494976E12,1.6127424E12,1.693872E12,1.3441248E12,1.3442976E12,1.3550112E12,1.355616E12,1.3689216E12,1.37376E12,1.3792896E12,1.3804992E12,1.3906944E12,1.4112576E12,1.4287968E12,1.459728E12,1.5155424E12,1.5494976E12,1.6127424E12,1.693872E12],\n",
       "\"platform\":[\"YouTube\",\"YouTube\",\"YouTube\",\"YouTube\",\"YouTube\",\"YouTube\",\"YouTube\",\"YouTube\",\"YouTube\",\"YouTube\",\"YouTube\",\"YouTube\",\"YouTube\",\"YouTube\",\"YouTube\",\"YouTube\",\"Facebook\",\"Facebook\",\"Facebook\",\"Facebook\",\"Facebook\",\"Facebook\",\"Facebook\",\"Facebook\",\"Facebook\",\"Facebook\",\"Facebook\",\"Facebook\",\"Facebook\",\"Facebook\",\"Facebook\",\"Facebook\",\"Instagram\",\"Instagram\",\"Instagram\",\"Instagram\",\"Instagram\",\"Instagram\",\"Instagram\",\"Instagram\",\"Instagram\",\"Instagram\",\"Instagram\",\"Instagram\",\"Instagram\",\"Instagram\",\"Instagram\",\"Instagram\",\"Pinterest\",\"Pinterest\",\"Pinterest\",\"Pinterest\",\"Pinterest\",\"Pinterest\",\"Pinterest\",\"Pinterest\",\"Pinterest\",\"Pinterest\",\"Pinterest\",\"Pinterest\",\"Pinterest\",\"Pinterest\",\"Pinterest\",\"Pinterest\",\"TikTok\",\"TikTok\",\"TikTok\",\"TikTok\",\"TikTok\",\"TikTok\",\"TikTok\",\"TikTok\",\"TikTok\",\"TikTok\",\"TikTok\",\"TikTok\",\"TikTok\",\"TikTok\",\"TikTok\",\"TikTok\",\"LinkedIn\",\"LinkedIn\",\"LinkedIn\",\"LinkedIn\",\"LinkedIn\",\"LinkedIn\",\"LinkedIn\",\"LinkedIn\",\"LinkedIn\",\"LinkedIn\",\"LinkedIn\",\"LinkedIn\",\"LinkedIn\",\"LinkedIn\",\"LinkedIn\",\"LinkedIn\",\"WhatsApp\",\"WhatsApp\",\"WhatsApp\",\"WhatsApp\",\"WhatsApp\",\"WhatsApp\",\"WhatsApp\",\"WhatsApp\",\"WhatsApp\",\"WhatsApp\",\"WhatsApp\",\"WhatsApp\",\"WhatsApp\",\"WhatsApp\",\"WhatsApp\",\"WhatsApp\",\"Snapchat\",\"Snapchat\",\"Snapchat\",\"Snapchat\",\"Snapchat\",\"Snapchat\",\"Snapchat\",\"Snapchat\",\"Snapchat\",\"Snapchat\",\"Snapchat\",\"Snapchat\",\"Snapchat\",\"Snapchat\",\"Snapchat\",\"Snapchat\",\"Twitter (X)\",\"Twitter (X)\",\"Twitter (X)\",\"Twitter (X)\",\"Twitter (X)\",\"Twitter (X)\",\"Twitter (X)\",\"Twitter (X)\",\"Twitter (X)\",\"Twitter (X)\",\"Twitter (X)\",\"Twitter (X)\",\"Twitter (X)\",\"Twitter (X)\",\"Twitter (X)\",\"Twitter (X)\",\"Reddit\",\"Reddit\",\"Reddit\",\"Reddit\",\"Reddit\",\"Reddit\",\"Reddit\",\"Reddit\",\"Reddit\",\"Reddit\",\"Reddit\",\"Reddit\",\"Reddit\",\"Reddit\",\"Reddit\",\"Reddit\",\"BeReal\",\"BeReal\",\"BeReal\",\"BeReal\",\"BeReal\",\"BeReal\",\"BeReal\",\"BeReal\",\"BeReal\",\"BeReal\",\"BeReal\",\"BeReal\",\"BeReal\",\"BeReal\",\"BeReal\",\"BeReal\",\"Nextdoor\",\"Nextdoor\",\"Nextdoor\",\"Nextdoor\",\"Nextdoor\",\"Nextdoor\",\"Nextdoor\",\"Nextdoor\",\"Nextdoor\",\"Nextdoor\",\"Nextdoor\",\"Nextdoor\",\"Nextdoor\",\"Nextdoor\",\"Nextdoor\",\"Nextdoor\"],\n",
       "\"percentage\":[null,null,null,null,null,null,null,null,null,null,null,null,73.0,73.0,81.0,83.0,54.0,null,null,57.0,null,null,57.0,null,null,58.0,62.0,68.0,68.0,69.0,69.0,68.0,9.0,null,11.0,null,null,null,14.0,null,null,21.0,24.0,28.0,35.0,37.0,40.0,47.0,10.0,null,13.0,null,null,null,17.0,null,null,22.0,26.0,26.0,29.0,28.0,31.0,35.0,null,null,null,null,null,null,null,null,null,null,null,null,null,null,21.0,33.0,16.0,null,null,null,null,null,17.0,null,null,23.0,22.0,25.0,25.0,27.0,28.0,30.0,null,null,null,null,null,null,null,null,null,null,null,null,22.0,20.0,23.0,29.0,null,null,null,null,null,null,null,null,null,null,null,null,27.0,24.0,25.0,27.0,13.0,14.0,13.0,null,15.0,16.0,14.0,16.0,16.0,19.0,20.0,21.0,24.0,22.0,23.0,22.0,null,null,null,null,null,null,null,null,null,null,null,null,null,11.0,18.0,22.0,null,null,null,null,null,null,null,null,null,null,null,null,null,null,null,3.0,null,null,null,null,null,null,null,null,null,null,null,null,null,null,13.0,null]\n",
       "},\n",
       "\"mapping\":{\n",
       "\"x\":\"Year\",\n",
       "\"y\":\"percentage\",\n",
       "\"color\":\"platform\"\n",
       "},\n",
       "\"data_meta\":{\n",
       "\"series_annotations\":[{\n",
       "\"type\":\"datetime\",\n",
       "\"column\":\"Year\"\n",
       "},{\n",
       "\"type\":\"str\",\n",
       "\"column\":\"platform\"\n",
       "},{\n",
       "\"type\":\"float\",\n",
       "\"column\":\"percentage\"\n",
       "}]\n",
       "},\n",
       "\"ggtitle\":{\n",
       "\"text\":\"Which social media platforms are most popular\"\n",
       "},\n",
       "\"kind\":\"plot\",\n",
       "\"scales\":[{\n",
       "\"aesthetic\":\"color\",\n",
       "\"type\":\"div\",\n",
       "\"palette\":\"Spectral\",\n",
       "\"scale_mapper_kind\":\"color_brewer\"\n",
       "}],\n",
       "\"layers\":[{\n",
       "\"geom\":\"line\",\n",
       "\"mapping\":{\n",
       "},\n",
       "\"data_meta\":{\n",
       "},\n",
       "\"data\":{\n",
       "}\n",
       "},{\n",
       "\"geom\":\"point\",\n",
       "\"mapping\":{\n",
       "},\n",
       "\"show_legend\":false,\n",
       "\"data_meta\":{\n",
       "},\n",
       "\"tooltip\":\"platform|Year: @year|Value: @value\",\n",
       "\"data\":{\n",
       "}\n",
       "},{\n",
       "\"geom\":\"vline\",\n",
       "\"mapping\":{\n",
       "},\n",
       "\"data_meta\":{\n",
       "},\n",
       "\"xintercept\":1.6409952E12,\n",
       "\"color\":\"lightgrey\",\n",
       "\"data\":{\n",
       "}\n",
       "}],\n",
       "\"metainfo_list\":[],\n",
       "\"spec_id\":\"1\"\n",
       "};\n",
       "               window.letsPlotCall(function() {\n",
       "       \n",
       "               var toolbar = null;\n",
       "               var plotContainer = containerDiv;               \n",
       "               \n",
       "                   var options = {\n",
       "                       sizing: {\n",
       "                           width_mode: \"min\",\n",
       "                           height_mode: \"scaled\",\n",
       "                           width: width\n",
       "                       }\n",
       "                   };\n",
       "                   var fig = LetsPlot.buildPlotFromProcessedSpecs(plotSpec, -1, -1, plotContainer, options);\n",
       "                   if (toolbar) {\n",
       "                     toolbar.bind(fig);\n",
       "                   }\n",
       "               });\n",
       "               \n",
       "               break;\n",
       "           }\n",
       "       }\n",
       "   });\n",
       "   \n",
       "   observer.observe(containerDiv);\n",
       "   \n",
       "   // ----------\n",
       "   })();\n",
       "   \n",
       "   </script>"
      ],
      "text/plain": [
       "<lets_plot.plot.core.PlotSpec at 0x1f6cc2fc0e0>"
      ]
     },
     "execution_count": 7,
     "metadata": {},
     "output_type": "execute_result"
    }
   ],
   "source": [
    "p_line = (ggplot(us_social_media_tidy, aes(x = \"Year\", y = \"percentage\", color = \"platform\")) + \n",
    "          geom_line() + geom_point(show_legend=False, tooltip='platform|Year: @year|Value: @value') +\n",
    "          geom_vline(xintercept=pd.Timestamp('2022-01-01'), color='lightgrey') +  # Adding vertical line\n",
    "          # geom_text(aes(x=pd.Timestamp('2022-01-01'), y=28, label='Change in survey mode'), \n",
    "                  # angle=90, hjust='right', size=12) +  # Annotating beside the line\n",
    "          scale_color_brewer(type='div', palette='Spectral') + \n",
    "          labs(title = \"Which social media platforms are most popular\")\n",
    "          # theme_minimal()\n",
    "          )\n",
    "p_line"
   ]
  },
  {
   "cell_type": "code",
   "execution_count": 8,
   "metadata": {},
   "outputs": [
    {
     "data": {
      "text/html": [
       "   <div id=\"96cKSr\"></div>\n",
       "   <script type=\"text/javascript\" data-lets-plot-script=\"plot\">\n",
       "   \n",
       "   (function() {\n",
       "   // ----------\n",
       "   \n",
       "   var containerDiv = document.getElementById(\"96cKSr\");\n",
       "   var observer = new ResizeObserver(function(entries) {\n",
       "       for (let entry of entries) {\n",
       "           var width = containerDiv.clientWidth\n",
       "           if (entry.contentBoxSize && width > 0) {\n",
       "           \n",
       "               // Render plot\n",
       "               if (observer) {\n",
       "                   observer.disconnect();\n",
       "                   observer = null;\n",
       "               }\n",
       "\n",
       "               var plotSpec={\n",
       "\"data\":{\n",
       "\"Year\":[1.3441248E12,1.3442976E12,1.3550112E12,1.355616E12,1.3689216E12,1.37376E12,1.3792896E12,1.3804992E12,1.3906944E12,1.4112576E12,1.4287968E12,1.459728E12,1.5155424E12,1.5494976E12,1.6127424E12,1.693872E12,1.3441248E12,1.3442976E12,1.3550112E12,1.355616E12,1.3689216E12,1.37376E12,1.3792896E12,1.3804992E12,1.3906944E12,1.4112576E12,1.4287968E12,1.459728E12,1.5155424E12,1.5494976E12,1.6127424E12,1.693872E12,1.3441248E12,1.3442976E12,1.3550112E12,1.355616E12,1.3689216E12,1.37376E12,1.3792896E12,1.3804992E12,1.3906944E12,1.4112576E12,1.4287968E12,1.459728E12,1.5155424E12,1.5494976E12,1.6127424E12,1.693872E12,1.3441248E12,1.3442976E12,1.3550112E12,1.355616E12,1.3689216E12,1.37376E12,1.3792896E12,1.3804992E12,1.3906944E12,1.4112576E12,1.4287968E12,1.459728E12,1.5155424E12,1.5494976E12,1.6127424E12,1.693872E12,1.3441248E12,1.3442976E12,1.3550112E12,1.355616E12,1.3689216E12,1.37376E12,1.3792896E12,1.3804992E12,1.3906944E12,1.4112576E12,1.4287968E12,1.459728E12,1.5155424E12,1.5494976E12,1.6127424E12,1.693872E12,1.3441248E12,1.3442976E12,1.3550112E12,1.355616E12,1.3689216E12,1.37376E12,1.3792896E12,1.3804992E12,1.3906944E12,1.4112576E12,1.4287968E12,1.459728E12,1.5155424E12,1.5494976E12,1.6127424E12,1.693872E12,1.3441248E12,1.3442976E12,1.3550112E12,1.355616E12,1.3689216E12,1.37376E12,1.3792896E12,1.3804992E12,1.3906944E12,1.4112576E12,1.4287968E12,1.459728E12,1.5155424E12,1.5494976E12,1.6127424E12,1.693872E12,1.3441248E12,1.3442976E12,1.3550112E12,1.355616E12,1.3689216E12,1.37376E12,1.3792896E12,1.3804992E12,1.3906944E12,1.4112576E12,1.4287968E12,1.459728E12,1.5155424E12,1.5494976E12,1.6127424E12,1.693872E12,1.3441248E12,1.3442976E12,1.3550112E12,1.355616E12,1.3689216E12,1.37376E12,1.3792896E12,1.3804992E12,1.3906944E12,1.4112576E12,1.4287968E12,1.459728E12,1.5155424E12,1.5494976E12,1.6127424E12,1.693872E12,1.3441248E12,1.3442976E12,1.3550112E12,1.355616E12,1.3689216E12,1.37376E12,1.3792896E12,1.3804992E12,1.3906944E12,1.4112576E12,1.4287968E12,1.459728E12,1.5155424E12,1.5494976E12,1.6127424E12,1.693872E12,1.3441248E12,1.3442976E12,1.3550112E12,1.355616E12,1.3689216E12,1.37376E12,1.3792896E12,1.3804992E12,1.3906944E12,1.4112576E12,1.4287968E12,1.459728E12,1.5155424E12,1.5494976E12,1.6127424E12,1.693872E12,1.3441248E12,1.3442976E12,1.3550112E12,1.355616E12,1.3689216E12,1.37376E12,1.3792896E12,1.3804992E12,1.3906944E12,1.4112576E12,1.4287968E12,1.459728E12,1.5155424E12,1.5494976E12,1.6127424E12,1.693872E12],\n",
       "\"platform\":[\"YouTube\",\"YouTube\",\"YouTube\",\"YouTube\",\"YouTube\",\"YouTube\",\"YouTube\",\"YouTube\",\"YouTube\",\"YouTube\",\"YouTube\",\"YouTube\",\"YouTube\",\"YouTube\",\"YouTube\",\"YouTube\",\"Facebook\",\"Facebook\",\"Facebook\",\"Facebook\",\"Facebook\",\"Facebook\",\"Facebook\",\"Facebook\",\"Facebook\",\"Facebook\",\"Facebook\",\"Facebook\",\"Facebook\",\"Facebook\",\"Facebook\",\"Facebook\",\"Instagram\",\"Instagram\",\"Instagram\",\"Instagram\",\"Instagram\",\"Instagram\",\"Instagram\",\"Instagram\",\"Instagram\",\"Instagram\",\"Instagram\",\"Instagram\",\"Instagram\",\"Instagram\",\"Instagram\",\"Instagram\",\"Pinterest\",\"Pinterest\",\"Pinterest\",\"Pinterest\",\"Pinterest\",\"Pinterest\",\"Pinterest\",\"Pinterest\",\"Pinterest\",\"Pinterest\",\"Pinterest\",\"Pinterest\",\"Pinterest\",\"Pinterest\",\"Pinterest\",\"Pinterest\",\"TikTok\",\"TikTok\",\"TikTok\",\"TikTok\",\"TikTok\",\"TikTok\",\"TikTok\",\"TikTok\",\"TikTok\",\"TikTok\",\"TikTok\",\"TikTok\",\"TikTok\",\"TikTok\",\"TikTok\",\"TikTok\",\"LinkedIn\",\"LinkedIn\",\"LinkedIn\",\"LinkedIn\",\"LinkedIn\",\"LinkedIn\",\"LinkedIn\",\"LinkedIn\",\"LinkedIn\",\"LinkedIn\",\"LinkedIn\",\"LinkedIn\",\"LinkedIn\",\"LinkedIn\",\"LinkedIn\",\"LinkedIn\",\"WhatsApp\",\"WhatsApp\",\"WhatsApp\",\"WhatsApp\",\"WhatsApp\",\"WhatsApp\",\"WhatsApp\",\"WhatsApp\",\"WhatsApp\",\"WhatsApp\",\"WhatsApp\",\"WhatsApp\",\"WhatsApp\",\"WhatsApp\",\"WhatsApp\",\"WhatsApp\",\"Snapchat\",\"Snapchat\",\"Snapchat\",\"Snapchat\",\"Snapchat\",\"Snapchat\",\"Snapchat\",\"Snapchat\",\"Snapchat\",\"Snapchat\",\"Snapchat\",\"Snapchat\",\"Snapchat\",\"Snapchat\",\"Snapchat\",\"Snapchat\",\"Twitter (X)\",\"Twitter (X)\",\"Twitter (X)\",\"Twitter (X)\",\"Twitter (X)\",\"Twitter (X)\",\"Twitter (X)\",\"Twitter (X)\",\"Twitter (X)\",\"Twitter (X)\",\"Twitter (X)\",\"Twitter (X)\",\"Twitter (X)\",\"Twitter (X)\",\"Twitter (X)\",\"Twitter (X)\",\"Reddit\",\"Reddit\",\"Reddit\",\"Reddit\",\"Reddit\",\"Reddit\",\"Reddit\",\"Reddit\",\"Reddit\",\"Reddit\",\"Reddit\",\"Reddit\",\"Reddit\",\"Reddit\",\"Reddit\",\"Reddit\",\"BeReal\",\"BeReal\",\"BeReal\",\"BeReal\",\"BeReal\",\"BeReal\",\"BeReal\",\"BeReal\",\"BeReal\",\"BeReal\",\"BeReal\",\"BeReal\",\"BeReal\",\"BeReal\",\"BeReal\",\"BeReal\",\"Nextdoor\",\"Nextdoor\",\"Nextdoor\",\"Nextdoor\",\"Nextdoor\",\"Nextdoor\",\"Nextdoor\",\"Nextdoor\",\"Nextdoor\",\"Nextdoor\",\"Nextdoor\",\"Nextdoor\",\"Nextdoor\",\"Nextdoor\",\"Nextdoor\",\"Nextdoor\"],\n",
       "\"percentage\":[null,null,null,null,null,null,null,null,null,null,null,null,73.0,73.0,81.0,83.0,54.0,null,null,57.0,null,null,57.0,null,null,58.0,62.0,68.0,68.0,69.0,69.0,68.0,9.0,null,11.0,null,null,null,14.0,null,null,21.0,24.0,28.0,35.0,37.0,40.0,47.0,10.0,null,13.0,null,null,null,17.0,null,null,22.0,26.0,26.0,29.0,28.0,31.0,35.0,null,null,null,null,null,null,null,null,null,null,null,null,null,null,21.0,33.0,16.0,null,null,null,null,null,17.0,null,null,23.0,22.0,25.0,25.0,27.0,28.0,30.0,null,null,null,null,null,null,null,null,null,null,null,null,22.0,20.0,23.0,29.0,null,null,null,null,null,null,null,null,null,null,null,null,27.0,24.0,25.0,27.0,13.0,14.0,13.0,null,15.0,16.0,14.0,16.0,16.0,19.0,20.0,21.0,24.0,22.0,23.0,22.0,null,null,null,null,null,null,null,null,null,null,null,null,null,11.0,18.0,22.0,null,null,null,null,null,null,null,null,null,null,null,null,null,null,null,3.0,null,null,null,null,null,null,null,null,null,null,null,null,null,null,13.0,null]\n",
       "},\n",
       "\"mapping\":{\n",
       "\"x\":\"Year\",\n",
       "\"y\":\"percentage\",\n",
       "\"color\":\"platform\"\n",
       "},\n",
       "\"data_meta\":{\n",
       "\"series_annotations\":[{\n",
       "\"type\":\"datetime\",\n",
       "\"column\":\"Year\"\n",
       "},{\n",
       "\"type\":\"str\",\n",
       "\"column\":\"platform\"\n",
       "},{\n",
       "\"type\":\"float\",\n",
       "\"column\":\"percentage\"\n",
       "}]\n",
       "},\n",
       "\"ggtitle\":{\n",
       "\"text\":\"Which social media platforms are most popular\"\n",
       "},\n",
       "\"kind\":\"plot\",\n",
       "\"scales\":[{\n",
       "\"aesthetic\":\"y\",\n",
       "\"limits\":[0.0,100.0]\n",
       "}],\n",
       "\"layers\":[{\n",
       "\"geom\":\"line\",\n",
       "\"mapping\":{\n",
       "},\n",
       "\"data_meta\":{\n",
       "},\n",
       "\"data\":{\n",
       "}\n",
       "},{\n",
       "\"geom\":\"point\",\n",
       "\"mapping\":{\n",
       "},\n",
       "\"show_legend\":false,\n",
       "\"data_meta\":{\n",
       "},\n",
       "\"tooltip\":\"platform|Year: @year|Value: @value\",\n",
       "\"data\":{\n",
       "}\n",
       "},{\n",
       "\"geom\":\"vline\",\n",
       "\"mapping\":{\n",
       "},\n",
       "\"data_meta\":{\n",
       "},\n",
       "\"xintercept\":1.6409952E12,\n",
       "\"color\":\"lightgrey\",\n",
       "\"data\":{\n",
       "}\n",
       "}],\n",
       "\"metainfo_list\":[],\n",
       "\"spec_id\":\"2\"\n",
       "};\n",
       "               window.letsPlotCall(function() {\n",
       "       \n",
       "               var toolbar = null;\n",
       "               var plotContainer = containerDiv;               \n",
       "               \n",
       "                   var options = {\n",
       "                       sizing: {\n",
       "                           width_mode: \"min\",\n",
       "                           height_mode: \"scaled\",\n",
       "                           width: width\n",
       "                       }\n",
       "                   };\n",
       "                   var fig = LetsPlot.buildPlotFromProcessedSpecs(plotSpec, -1, -1, plotContainer, options);\n",
       "                   if (toolbar) {\n",
       "                     toolbar.bind(fig);\n",
       "                   }\n",
       "               });\n",
       "               \n",
       "               break;\n",
       "           }\n",
       "       }\n",
       "   });\n",
       "   \n",
       "   observer.observe(containerDiv);\n",
       "   \n",
       "   // ----------\n",
       "   })();\n",
       "   \n",
       "   </script>"
      ],
      "text/plain": [
       "<lets_plot.plot.core.PlotSpec at 0x1f6cc2ff230>"
      ]
     },
     "execution_count": 8,
     "metadata": {},
     "output_type": "execute_result"
    }
   ],
   "source": [
    "p_line2 = (ggplot(us_social_media_tidy, aes(x = \"Year\", y = \"percentage\", color = \"platform\")) + \n",
    "          geom_line() + geom_point(show_legend=False, tooltip='platform|Year: @year|Value: @value') +\n",
    "          geom_vline(xintercept=pd.Timestamp('2022-01-01'), color='lightgrey') +  # Adding vertical line\n",
    "          # scale_color_brewer(type='div', palette='Spectral') + \n",
    "          # scale_x_datetime(labels='%Y', breaks='2 years') +\n",
    "          scale_y_continuous(limits=[0, 100]) +\n",
    "          labs(title = \"Which social media platforms are most popular\")\n",
    "          )\n",
    "p_line2"
   ]
  },
  {
   "cell_type": "markdown",
   "metadata": {},
   "source": [
    "1. y lable add %\n",
    "2. label of vertical line\n",
    "3. label of interactive\n",
    "4. remove the background"
   ]
  },
  {
   "cell_type": "code",
   "execution_count": 9,
   "metadata": {},
   "outputs": [],
   "source": [
    "import plotly.express as px"
   ]
  },
  {
   "cell_type": "code",
   "execution_count": 10,
   "metadata": {},
   "outputs": [],
   "source": [
    "px.defaults.template = \"simple_white\"\n",
    "px.defaults.color_continuous_scale = px.colors.sequential.Blues\n",
    "px.defaults.color_discrete_sequence = px.colors.qualitative.D3\n",
    "px.defaults.width = 800\n",
    "px.defaults.height = 600"
   ]
  },
  {
   "cell_type": "code",
   "execution_count": 11,
   "metadata": {},
   "outputs": [
    {
     "data": {
      "application/vnd.plotly.v1+json": {
       "config": {
        "plotlyServerURL": "https://plot.ly"
       },
       "data": [
        {
         "hovertemplate": "platform=YouTube<br>Year=%{x}<br>percentage=%{y}<extra></extra>",
         "legendgroup": "YouTube",
         "line": {
          "color": "#1F77B4",
          "dash": "solid"
         },
         "marker": {
          "symbol": "circle"
         },
         "mode": "lines+markers",
         "name": "YouTube",
         "orientation": "v",
         "showlegend": true,
         "type": "scatter",
         "x": [
          "2012-08-05T00:00:00",
          "2012-08-07T00:00:00",
          "2012-12-09T00:00:00",
          "2012-12-16T00:00:00",
          "2013-05-19T00:00:00",
          "2013-07-14T00:00:00",
          "2013-09-16T00:00:00",
          "2013-09-30T00:00:00",
          "2014-01-26T00:00:00",
          "2014-09-21T00:00:00",
          "2015-04-12T00:00:00",
          "2016-04-04T00:00:00",
          "2018-01-10T00:00:00",
          "2019-02-07T00:00:00",
          "2021-02-08T00:00:00",
          "2023-09-05T00:00:00"
         ],
         "xaxis": "x",
         "y": [
          null,
          null,
          null,
          null,
          null,
          null,
          null,
          null,
          null,
          null,
          null,
          null,
          73,
          73,
          81,
          83
         ],
         "yaxis": "y"
        },
        {
         "hovertemplate": "platform=Facebook<br>Year=%{x}<br>percentage=%{y}<extra></extra>",
         "legendgroup": "Facebook",
         "line": {
          "color": "#FF7F0E",
          "dash": "solid"
         },
         "marker": {
          "symbol": "circle"
         },
         "mode": "lines+markers",
         "name": "Facebook",
         "orientation": "v",
         "showlegend": true,
         "type": "scatter",
         "x": [
          "2012-08-05T00:00:00",
          "2012-08-07T00:00:00",
          "2012-12-09T00:00:00",
          "2012-12-16T00:00:00",
          "2013-05-19T00:00:00",
          "2013-07-14T00:00:00",
          "2013-09-16T00:00:00",
          "2013-09-30T00:00:00",
          "2014-01-26T00:00:00",
          "2014-09-21T00:00:00",
          "2015-04-12T00:00:00",
          "2016-04-04T00:00:00",
          "2018-01-10T00:00:00",
          "2019-02-07T00:00:00",
          "2021-02-08T00:00:00",
          "2023-09-05T00:00:00"
         ],
         "xaxis": "x",
         "y": [
          54,
          null,
          null,
          57,
          null,
          null,
          57,
          null,
          null,
          58,
          62,
          68,
          68,
          69,
          69,
          68
         ],
         "yaxis": "y"
        },
        {
         "hovertemplate": "platform=Instagram<br>Year=%{x}<br>percentage=%{y}<extra></extra>",
         "legendgroup": "Instagram",
         "line": {
          "color": "#2CA02C",
          "dash": "solid"
         },
         "marker": {
          "symbol": "circle"
         },
         "mode": "lines+markers",
         "name": "Instagram",
         "orientation": "v",
         "showlegend": true,
         "type": "scatter",
         "x": [
          "2012-08-05T00:00:00",
          "2012-08-07T00:00:00",
          "2012-12-09T00:00:00",
          "2012-12-16T00:00:00",
          "2013-05-19T00:00:00",
          "2013-07-14T00:00:00",
          "2013-09-16T00:00:00",
          "2013-09-30T00:00:00",
          "2014-01-26T00:00:00",
          "2014-09-21T00:00:00",
          "2015-04-12T00:00:00",
          "2016-04-04T00:00:00",
          "2018-01-10T00:00:00",
          "2019-02-07T00:00:00",
          "2021-02-08T00:00:00",
          "2023-09-05T00:00:00"
         ],
         "xaxis": "x",
         "y": [
          9,
          null,
          11,
          null,
          null,
          null,
          14,
          null,
          null,
          21,
          24,
          28,
          35,
          37,
          40,
          47
         ],
         "yaxis": "y"
        },
        {
         "hovertemplate": "platform=Pinterest<br>Year=%{x}<br>percentage=%{y}<extra></extra>",
         "legendgroup": "Pinterest",
         "line": {
          "color": "#D62728",
          "dash": "solid"
         },
         "marker": {
          "symbol": "circle"
         },
         "mode": "lines+markers",
         "name": "Pinterest",
         "orientation": "v",
         "showlegend": true,
         "type": "scatter",
         "x": [
          "2012-08-05T00:00:00",
          "2012-08-07T00:00:00",
          "2012-12-09T00:00:00",
          "2012-12-16T00:00:00",
          "2013-05-19T00:00:00",
          "2013-07-14T00:00:00",
          "2013-09-16T00:00:00",
          "2013-09-30T00:00:00",
          "2014-01-26T00:00:00",
          "2014-09-21T00:00:00",
          "2015-04-12T00:00:00",
          "2016-04-04T00:00:00",
          "2018-01-10T00:00:00",
          "2019-02-07T00:00:00",
          "2021-02-08T00:00:00",
          "2023-09-05T00:00:00"
         ],
         "xaxis": "x",
         "y": [
          10,
          null,
          13,
          null,
          null,
          null,
          17,
          null,
          null,
          22,
          26,
          26,
          29,
          28,
          31,
          35
         ],
         "yaxis": "y"
        },
        {
         "hovertemplate": "platform=TikTok<br>Year=%{x}<br>percentage=%{y}<extra></extra>",
         "legendgroup": "TikTok",
         "line": {
          "color": "#9467BD",
          "dash": "solid"
         },
         "marker": {
          "symbol": "circle"
         },
         "mode": "lines+markers",
         "name": "TikTok",
         "orientation": "v",
         "showlegend": true,
         "type": "scatter",
         "x": [
          "2012-08-05T00:00:00",
          "2012-08-07T00:00:00",
          "2012-12-09T00:00:00",
          "2012-12-16T00:00:00",
          "2013-05-19T00:00:00",
          "2013-07-14T00:00:00",
          "2013-09-16T00:00:00",
          "2013-09-30T00:00:00",
          "2014-01-26T00:00:00",
          "2014-09-21T00:00:00",
          "2015-04-12T00:00:00",
          "2016-04-04T00:00:00",
          "2018-01-10T00:00:00",
          "2019-02-07T00:00:00",
          "2021-02-08T00:00:00",
          "2023-09-05T00:00:00"
         ],
         "xaxis": "x",
         "y": [
          null,
          null,
          null,
          null,
          null,
          null,
          null,
          null,
          null,
          null,
          null,
          null,
          null,
          null,
          21,
          33
         ],
         "yaxis": "y"
        },
        {
         "hovertemplate": "platform=LinkedIn<br>Year=%{x}<br>percentage=%{y}<extra></extra>",
         "legendgroup": "LinkedIn",
         "line": {
          "color": "#8C564B",
          "dash": "solid"
         },
         "marker": {
          "symbol": "circle"
         },
         "mode": "lines+markers",
         "name": "LinkedIn",
         "orientation": "v",
         "showlegend": true,
         "type": "scatter",
         "x": [
          "2012-08-05T00:00:00",
          "2012-08-07T00:00:00",
          "2012-12-09T00:00:00",
          "2012-12-16T00:00:00",
          "2013-05-19T00:00:00",
          "2013-07-14T00:00:00",
          "2013-09-16T00:00:00",
          "2013-09-30T00:00:00",
          "2014-01-26T00:00:00",
          "2014-09-21T00:00:00",
          "2015-04-12T00:00:00",
          "2016-04-04T00:00:00",
          "2018-01-10T00:00:00",
          "2019-02-07T00:00:00",
          "2021-02-08T00:00:00",
          "2023-09-05T00:00:00"
         ],
         "xaxis": "x",
         "y": [
          16,
          null,
          null,
          null,
          null,
          null,
          17,
          null,
          null,
          23,
          22,
          25,
          25,
          27,
          28,
          30
         ],
         "yaxis": "y"
        },
        {
         "hovertemplate": "platform=WhatsApp<br>Year=%{x}<br>percentage=%{y}<extra></extra>",
         "legendgroup": "WhatsApp",
         "line": {
          "color": "#E377C2",
          "dash": "solid"
         },
         "marker": {
          "symbol": "circle"
         },
         "mode": "lines+markers",
         "name": "WhatsApp",
         "orientation": "v",
         "showlegend": true,
         "type": "scatter",
         "x": [
          "2012-08-05T00:00:00",
          "2012-08-07T00:00:00",
          "2012-12-09T00:00:00",
          "2012-12-16T00:00:00",
          "2013-05-19T00:00:00",
          "2013-07-14T00:00:00",
          "2013-09-16T00:00:00",
          "2013-09-30T00:00:00",
          "2014-01-26T00:00:00",
          "2014-09-21T00:00:00",
          "2015-04-12T00:00:00",
          "2016-04-04T00:00:00",
          "2018-01-10T00:00:00",
          "2019-02-07T00:00:00",
          "2021-02-08T00:00:00",
          "2023-09-05T00:00:00"
         ],
         "xaxis": "x",
         "y": [
          null,
          null,
          null,
          null,
          null,
          null,
          null,
          null,
          null,
          null,
          null,
          null,
          22,
          20,
          23,
          29
         ],
         "yaxis": "y"
        },
        {
         "hovertemplate": "platform=Snapchat<br>Year=%{x}<br>percentage=%{y}<extra></extra>",
         "legendgroup": "Snapchat",
         "line": {
          "color": "#7F7F7F",
          "dash": "solid"
         },
         "marker": {
          "symbol": "circle"
         },
         "mode": "lines+markers",
         "name": "Snapchat",
         "orientation": "v",
         "showlegend": true,
         "type": "scatter",
         "x": [
          "2012-08-05T00:00:00",
          "2012-08-07T00:00:00",
          "2012-12-09T00:00:00",
          "2012-12-16T00:00:00",
          "2013-05-19T00:00:00",
          "2013-07-14T00:00:00",
          "2013-09-16T00:00:00",
          "2013-09-30T00:00:00",
          "2014-01-26T00:00:00",
          "2014-09-21T00:00:00",
          "2015-04-12T00:00:00",
          "2016-04-04T00:00:00",
          "2018-01-10T00:00:00",
          "2019-02-07T00:00:00",
          "2021-02-08T00:00:00",
          "2023-09-05T00:00:00"
         ],
         "xaxis": "x",
         "y": [
          null,
          null,
          null,
          null,
          null,
          null,
          null,
          null,
          null,
          null,
          null,
          null,
          27,
          24,
          25,
          27
         ],
         "yaxis": "y"
        },
        {
         "hovertemplate": "platform=Twitter (X)<br>Year=%{x}<br>percentage=%{y}<extra></extra>",
         "legendgroup": "Twitter (X)",
         "line": {
          "color": "#BCBD22",
          "dash": "solid"
         },
         "marker": {
          "symbol": "circle"
         },
         "mode": "lines+markers",
         "name": "Twitter (X)",
         "orientation": "v",
         "showlegend": true,
         "type": "scatter",
         "x": [
          "2012-08-05T00:00:00",
          "2012-08-07T00:00:00",
          "2012-12-09T00:00:00",
          "2012-12-16T00:00:00",
          "2013-05-19T00:00:00",
          "2013-07-14T00:00:00",
          "2013-09-16T00:00:00",
          "2013-09-30T00:00:00",
          "2014-01-26T00:00:00",
          "2014-09-21T00:00:00",
          "2015-04-12T00:00:00",
          "2016-04-04T00:00:00",
          "2018-01-10T00:00:00",
          "2019-02-07T00:00:00",
          "2021-02-08T00:00:00",
          "2023-09-05T00:00:00"
         ],
         "xaxis": "x",
         "y": [
          13,
          14,
          13,
          null,
          15,
          16,
          14,
          16,
          16,
          19,
          20,
          21,
          24,
          22,
          23,
          22
         ],
         "yaxis": "y"
        },
        {
         "hovertemplate": "platform=Reddit<br>Year=%{x}<br>percentage=%{y}<extra></extra>",
         "legendgroup": "Reddit",
         "line": {
          "color": "#17BECF",
          "dash": "solid"
         },
         "marker": {
          "symbol": "circle"
         },
         "mode": "lines+markers",
         "name": "Reddit",
         "orientation": "v",
         "showlegend": true,
         "type": "scatter",
         "x": [
          "2012-08-05T00:00:00",
          "2012-08-07T00:00:00",
          "2012-12-09T00:00:00",
          "2012-12-16T00:00:00",
          "2013-05-19T00:00:00",
          "2013-07-14T00:00:00",
          "2013-09-16T00:00:00",
          "2013-09-30T00:00:00",
          "2014-01-26T00:00:00",
          "2014-09-21T00:00:00",
          "2015-04-12T00:00:00",
          "2016-04-04T00:00:00",
          "2018-01-10T00:00:00",
          "2019-02-07T00:00:00",
          "2021-02-08T00:00:00",
          "2023-09-05T00:00:00"
         ],
         "xaxis": "x",
         "y": [
          null,
          null,
          null,
          null,
          null,
          null,
          null,
          null,
          null,
          null,
          null,
          null,
          null,
          11,
          18,
          22
         ],
         "yaxis": "y"
        },
        {
         "hovertemplate": "platform=BeReal<br>Year=%{x}<br>percentage=%{y}<extra></extra>",
         "legendgroup": "BeReal",
         "line": {
          "color": "#1F77B4",
          "dash": "solid"
         },
         "marker": {
          "symbol": "circle"
         },
         "mode": "lines+markers",
         "name": "BeReal",
         "orientation": "v",
         "showlegend": true,
         "type": "scatter",
         "x": [
          "2012-08-05T00:00:00",
          "2012-08-07T00:00:00",
          "2012-12-09T00:00:00",
          "2012-12-16T00:00:00",
          "2013-05-19T00:00:00",
          "2013-07-14T00:00:00",
          "2013-09-16T00:00:00",
          "2013-09-30T00:00:00",
          "2014-01-26T00:00:00",
          "2014-09-21T00:00:00",
          "2015-04-12T00:00:00",
          "2016-04-04T00:00:00",
          "2018-01-10T00:00:00",
          "2019-02-07T00:00:00",
          "2021-02-08T00:00:00",
          "2023-09-05T00:00:00"
         ],
         "xaxis": "x",
         "y": [
          null,
          null,
          null,
          null,
          null,
          null,
          null,
          null,
          null,
          null,
          null,
          null,
          null,
          null,
          null,
          3
         ],
         "yaxis": "y"
        },
        {
         "hovertemplate": "platform=Nextdoor<br>Year=%{x}<br>percentage=%{y}<extra></extra>",
         "legendgroup": "Nextdoor",
         "line": {
          "color": "#FF7F0E",
          "dash": "solid"
         },
         "marker": {
          "symbol": "circle"
         },
         "mode": "lines+markers",
         "name": "Nextdoor",
         "orientation": "v",
         "showlegend": true,
         "type": "scatter",
         "x": [
          "2012-08-05T00:00:00",
          "2012-08-07T00:00:00",
          "2012-12-09T00:00:00",
          "2012-12-16T00:00:00",
          "2013-05-19T00:00:00",
          "2013-07-14T00:00:00",
          "2013-09-16T00:00:00",
          "2013-09-30T00:00:00",
          "2014-01-26T00:00:00",
          "2014-09-21T00:00:00",
          "2015-04-12T00:00:00",
          "2016-04-04T00:00:00",
          "2018-01-10T00:00:00",
          "2019-02-07T00:00:00",
          "2021-02-08T00:00:00",
          "2023-09-05T00:00:00"
         ],
         "xaxis": "x",
         "y": [
          null,
          null,
          null,
          null,
          null,
          null,
          null,
          null,
          null,
          null,
          null,
          null,
          null,
          null,
          13,
          null
         ],
         "yaxis": "y"
        }
       ],
       "layout": {
        "height": 600,
        "legend": {
         "title": {
          "text": "platform"
         },
         "tracegroupgap": 0
        },
        "template": {
         "data": {
          "bar": [
           {
            "error_x": {
             "color": "rgb(36,36,36)"
            },
            "error_y": {
             "color": "rgb(36,36,36)"
            },
            "marker": {
             "line": {
              "color": "white",
              "width": 0.5
             },
             "pattern": {
              "fillmode": "overlay",
              "size": 10,
              "solidity": 0.2
             }
            },
            "type": "bar"
           }
          ],
          "barpolar": [
           {
            "marker": {
             "line": {
              "color": "white",
              "width": 0.5
             },
             "pattern": {
              "fillmode": "overlay",
              "size": 10,
              "solidity": 0.2
             }
            },
            "type": "barpolar"
           }
          ],
          "carpet": [
           {
            "aaxis": {
             "endlinecolor": "rgb(36,36,36)",
             "gridcolor": "white",
             "linecolor": "white",
             "minorgridcolor": "white",
             "startlinecolor": "rgb(36,36,36)"
            },
            "baxis": {
             "endlinecolor": "rgb(36,36,36)",
             "gridcolor": "white",
             "linecolor": "white",
             "minorgridcolor": "white",
             "startlinecolor": "rgb(36,36,36)"
            },
            "type": "carpet"
           }
          ],
          "choropleth": [
           {
            "colorbar": {
             "outlinewidth": 1,
             "tickcolor": "rgb(36,36,36)",
             "ticks": "outside"
            },
            "type": "choropleth"
           }
          ],
          "contour": [
           {
            "colorbar": {
             "outlinewidth": 1,
             "tickcolor": "rgb(36,36,36)",
             "ticks": "outside"
            },
            "colorscale": [
             [
              0,
              "#440154"
             ],
             [
              0.1111111111111111,
              "#482878"
             ],
             [
              0.2222222222222222,
              "#3e4989"
             ],
             [
              0.3333333333333333,
              "#31688e"
             ],
             [
              0.4444444444444444,
              "#26828e"
             ],
             [
              0.5555555555555556,
              "#1f9e89"
             ],
             [
              0.6666666666666666,
              "#35b779"
             ],
             [
              0.7777777777777778,
              "#6ece58"
             ],
             [
              0.8888888888888888,
              "#b5de2b"
             ],
             [
              1,
              "#fde725"
             ]
            ],
            "type": "contour"
           }
          ],
          "contourcarpet": [
           {
            "colorbar": {
             "outlinewidth": 1,
             "tickcolor": "rgb(36,36,36)",
             "ticks": "outside"
            },
            "type": "contourcarpet"
           }
          ],
          "heatmap": [
           {
            "colorbar": {
             "outlinewidth": 1,
             "tickcolor": "rgb(36,36,36)",
             "ticks": "outside"
            },
            "colorscale": [
             [
              0,
              "#440154"
             ],
             [
              0.1111111111111111,
              "#482878"
             ],
             [
              0.2222222222222222,
              "#3e4989"
             ],
             [
              0.3333333333333333,
              "#31688e"
             ],
             [
              0.4444444444444444,
              "#26828e"
             ],
             [
              0.5555555555555556,
              "#1f9e89"
             ],
             [
              0.6666666666666666,
              "#35b779"
             ],
             [
              0.7777777777777778,
              "#6ece58"
             ],
             [
              0.8888888888888888,
              "#b5de2b"
             ],
             [
              1,
              "#fde725"
             ]
            ],
            "type": "heatmap"
           }
          ],
          "heatmapgl": [
           {
            "colorbar": {
             "outlinewidth": 1,
             "tickcolor": "rgb(36,36,36)",
             "ticks": "outside"
            },
            "colorscale": [
             [
              0,
              "#440154"
             ],
             [
              0.1111111111111111,
              "#482878"
             ],
             [
              0.2222222222222222,
              "#3e4989"
             ],
             [
              0.3333333333333333,
              "#31688e"
             ],
             [
              0.4444444444444444,
              "#26828e"
             ],
             [
              0.5555555555555556,
              "#1f9e89"
             ],
             [
              0.6666666666666666,
              "#35b779"
             ],
             [
              0.7777777777777778,
              "#6ece58"
             ],
             [
              0.8888888888888888,
              "#b5de2b"
             ],
             [
              1,
              "#fde725"
             ]
            ],
            "type": "heatmapgl"
           }
          ],
          "histogram": [
           {
            "marker": {
             "line": {
              "color": "white",
              "width": 0.6
             }
            },
            "type": "histogram"
           }
          ],
          "histogram2d": [
           {
            "colorbar": {
             "outlinewidth": 1,
             "tickcolor": "rgb(36,36,36)",
             "ticks": "outside"
            },
            "colorscale": [
             [
              0,
              "#440154"
             ],
             [
              0.1111111111111111,
              "#482878"
             ],
             [
              0.2222222222222222,
              "#3e4989"
             ],
             [
              0.3333333333333333,
              "#31688e"
             ],
             [
              0.4444444444444444,
              "#26828e"
             ],
             [
              0.5555555555555556,
              "#1f9e89"
             ],
             [
              0.6666666666666666,
              "#35b779"
             ],
             [
              0.7777777777777778,
              "#6ece58"
             ],
             [
              0.8888888888888888,
              "#b5de2b"
             ],
             [
              1,
              "#fde725"
             ]
            ],
            "type": "histogram2d"
           }
          ],
          "histogram2dcontour": [
           {
            "colorbar": {
             "outlinewidth": 1,
             "tickcolor": "rgb(36,36,36)",
             "ticks": "outside"
            },
            "colorscale": [
             [
              0,
              "#440154"
             ],
             [
              0.1111111111111111,
              "#482878"
             ],
             [
              0.2222222222222222,
              "#3e4989"
             ],
             [
              0.3333333333333333,
              "#31688e"
             ],
             [
              0.4444444444444444,
              "#26828e"
             ],
             [
              0.5555555555555556,
              "#1f9e89"
             ],
             [
              0.6666666666666666,
              "#35b779"
             ],
             [
              0.7777777777777778,
              "#6ece58"
             ],
             [
              0.8888888888888888,
              "#b5de2b"
             ],
             [
              1,
              "#fde725"
             ]
            ],
            "type": "histogram2dcontour"
           }
          ],
          "mesh3d": [
           {
            "colorbar": {
             "outlinewidth": 1,
             "tickcolor": "rgb(36,36,36)",
             "ticks": "outside"
            },
            "type": "mesh3d"
           }
          ],
          "parcoords": [
           {
            "line": {
             "colorbar": {
              "outlinewidth": 1,
              "tickcolor": "rgb(36,36,36)",
              "ticks": "outside"
             }
            },
            "type": "parcoords"
           }
          ],
          "pie": [
           {
            "automargin": true,
            "type": "pie"
           }
          ],
          "scatter": [
           {
            "fillpattern": {
             "fillmode": "overlay",
             "size": 10,
             "solidity": 0.2
            },
            "type": "scatter"
           }
          ],
          "scatter3d": [
           {
            "line": {
             "colorbar": {
              "outlinewidth": 1,
              "tickcolor": "rgb(36,36,36)",
              "ticks": "outside"
             }
            },
            "marker": {
             "colorbar": {
              "outlinewidth": 1,
              "tickcolor": "rgb(36,36,36)",
              "ticks": "outside"
             }
            },
            "type": "scatter3d"
           }
          ],
          "scattercarpet": [
           {
            "marker": {
             "colorbar": {
              "outlinewidth": 1,
              "tickcolor": "rgb(36,36,36)",
              "ticks": "outside"
             }
            },
            "type": "scattercarpet"
           }
          ],
          "scattergeo": [
           {
            "marker": {
             "colorbar": {
              "outlinewidth": 1,
              "tickcolor": "rgb(36,36,36)",
              "ticks": "outside"
             }
            },
            "type": "scattergeo"
           }
          ],
          "scattergl": [
           {
            "marker": {
             "colorbar": {
              "outlinewidth": 1,
              "tickcolor": "rgb(36,36,36)",
              "ticks": "outside"
             }
            },
            "type": "scattergl"
           }
          ],
          "scattermapbox": [
           {
            "marker": {
             "colorbar": {
              "outlinewidth": 1,
              "tickcolor": "rgb(36,36,36)",
              "ticks": "outside"
             }
            },
            "type": "scattermapbox"
           }
          ],
          "scatterpolar": [
           {
            "marker": {
             "colorbar": {
              "outlinewidth": 1,
              "tickcolor": "rgb(36,36,36)",
              "ticks": "outside"
             }
            },
            "type": "scatterpolar"
           }
          ],
          "scatterpolargl": [
           {
            "marker": {
             "colorbar": {
              "outlinewidth": 1,
              "tickcolor": "rgb(36,36,36)",
              "ticks": "outside"
             }
            },
            "type": "scatterpolargl"
           }
          ],
          "scatterternary": [
           {
            "marker": {
             "colorbar": {
              "outlinewidth": 1,
              "tickcolor": "rgb(36,36,36)",
              "ticks": "outside"
             }
            },
            "type": "scatterternary"
           }
          ],
          "surface": [
           {
            "colorbar": {
             "outlinewidth": 1,
             "tickcolor": "rgb(36,36,36)",
             "ticks": "outside"
            },
            "colorscale": [
             [
              0,
              "#440154"
             ],
             [
              0.1111111111111111,
              "#482878"
             ],
             [
              0.2222222222222222,
              "#3e4989"
             ],
             [
              0.3333333333333333,
              "#31688e"
             ],
             [
              0.4444444444444444,
              "#26828e"
             ],
             [
              0.5555555555555556,
              "#1f9e89"
             ],
             [
              0.6666666666666666,
              "#35b779"
             ],
             [
              0.7777777777777778,
              "#6ece58"
             ],
             [
              0.8888888888888888,
              "#b5de2b"
             ],
             [
              1,
              "#fde725"
             ]
            ],
            "type": "surface"
           }
          ],
          "table": [
           {
            "cells": {
             "fill": {
              "color": "rgb(237,237,237)"
             },
             "line": {
              "color": "white"
             }
            },
            "header": {
             "fill": {
              "color": "rgb(217,217,217)"
             },
             "line": {
              "color": "white"
             }
            },
            "type": "table"
           }
          ]
         },
         "layout": {
          "annotationdefaults": {
           "arrowhead": 0,
           "arrowwidth": 1
          },
          "autotypenumbers": "strict",
          "coloraxis": {
           "colorbar": {
            "outlinewidth": 1,
            "tickcolor": "rgb(36,36,36)",
            "ticks": "outside"
           }
          },
          "colorscale": {
           "diverging": [
            [
             0,
             "rgb(103,0,31)"
            ],
            [
             0.1,
             "rgb(178,24,43)"
            ],
            [
             0.2,
             "rgb(214,96,77)"
            ],
            [
             0.3,
             "rgb(244,165,130)"
            ],
            [
             0.4,
             "rgb(253,219,199)"
            ],
            [
             0.5,
             "rgb(247,247,247)"
            ],
            [
             0.6,
             "rgb(209,229,240)"
            ],
            [
             0.7,
             "rgb(146,197,222)"
            ],
            [
             0.8,
             "rgb(67,147,195)"
            ],
            [
             0.9,
             "rgb(33,102,172)"
            ],
            [
             1,
             "rgb(5,48,97)"
            ]
           ],
           "sequential": [
            [
             0,
             "#440154"
            ],
            [
             0.1111111111111111,
             "#482878"
            ],
            [
             0.2222222222222222,
             "#3e4989"
            ],
            [
             0.3333333333333333,
             "#31688e"
            ],
            [
             0.4444444444444444,
             "#26828e"
            ],
            [
             0.5555555555555556,
             "#1f9e89"
            ],
            [
             0.6666666666666666,
             "#35b779"
            ],
            [
             0.7777777777777778,
             "#6ece58"
            ],
            [
             0.8888888888888888,
             "#b5de2b"
            ],
            [
             1,
             "#fde725"
            ]
           ],
           "sequentialminus": [
            [
             0,
             "#440154"
            ],
            [
             0.1111111111111111,
             "#482878"
            ],
            [
             0.2222222222222222,
             "#3e4989"
            ],
            [
             0.3333333333333333,
             "#31688e"
            ],
            [
             0.4444444444444444,
             "#26828e"
            ],
            [
             0.5555555555555556,
             "#1f9e89"
            ],
            [
             0.6666666666666666,
             "#35b779"
            ],
            [
             0.7777777777777778,
             "#6ece58"
            ],
            [
             0.8888888888888888,
             "#b5de2b"
            ],
            [
             1,
             "#fde725"
            ]
           ]
          },
          "colorway": [
           "#1F77B4",
           "#FF7F0E",
           "#2CA02C",
           "#D62728",
           "#9467BD",
           "#8C564B",
           "#E377C2",
           "#7F7F7F",
           "#BCBD22",
           "#17BECF"
          ],
          "font": {
           "color": "rgb(36,36,36)"
          },
          "geo": {
           "bgcolor": "white",
           "lakecolor": "white",
           "landcolor": "white",
           "showlakes": true,
           "showland": true,
           "subunitcolor": "white"
          },
          "hoverlabel": {
           "align": "left"
          },
          "hovermode": "closest",
          "mapbox": {
           "style": "light"
          },
          "paper_bgcolor": "white",
          "plot_bgcolor": "white",
          "polar": {
           "angularaxis": {
            "gridcolor": "rgb(232,232,232)",
            "linecolor": "rgb(36,36,36)",
            "showgrid": false,
            "showline": true,
            "ticks": "outside"
           },
           "bgcolor": "white",
           "radialaxis": {
            "gridcolor": "rgb(232,232,232)",
            "linecolor": "rgb(36,36,36)",
            "showgrid": false,
            "showline": true,
            "ticks": "outside"
           }
          },
          "scene": {
           "xaxis": {
            "backgroundcolor": "white",
            "gridcolor": "rgb(232,232,232)",
            "gridwidth": 2,
            "linecolor": "rgb(36,36,36)",
            "showbackground": true,
            "showgrid": false,
            "showline": true,
            "ticks": "outside",
            "zeroline": false,
            "zerolinecolor": "rgb(36,36,36)"
           },
           "yaxis": {
            "backgroundcolor": "white",
            "gridcolor": "rgb(232,232,232)",
            "gridwidth": 2,
            "linecolor": "rgb(36,36,36)",
            "showbackground": true,
            "showgrid": false,
            "showline": true,
            "ticks": "outside",
            "zeroline": false,
            "zerolinecolor": "rgb(36,36,36)"
           },
           "zaxis": {
            "backgroundcolor": "white",
            "gridcolor": "rgb(232,232,232)",
            "gridwidth": 2,
            "linecolor": "rgb(36,36,36)",
            "showbackground": true,
            "showgrid": false,
            "showline": true,
            "ticks": "outside",
            "zeroline": false,
            "zerolinecolor": "rgb(36,36,36)"
           }
          },
          "shapedefaults": {
           "fillcolor": "black",
           "line": {
            "width": 0
           },
           "opacity": 0.3
          },
          "ternary": {
           "aaxis": {
            "gridcolor": "rgb(232,232,232)",
            "linecolor": "rgb(36,36,36)",
            "showgrid": false,
            "showline": true,
            "ticks": "outside"
           },
           "baxis": {
            "gridcolor": "rgb(232,232,232)",
            "linecolor": "rgb(36,36,36)",
            "showgrid": false,
            "showline": true,
            "ticks": "outside"
           },
           "bgcolor": "white",
           "caxis": {
            "gridcolor": "rgb(232,232,232)",
            "linecolor": "rgb(36,36,36)",
            "showgrid": false,
            "showline": true,
            "ticks": "outside"
           }
          },
          "title": {
           "x": 0.05
          },
          "xaxis": {
           "automargin": true,
           "gridcolor": "rgb(232,232,232)",
           "linecolor": "rgb(36,36,36)",
           "showgrid": false,
           "showline": true,
           "ticks": "outside",
           "title": {
            "standoff": 15
           },
           "zeroline": false,
           "zerolinecolor": "rgb(36,36,36)"
          },
          "yaxis": {
           "automargin": true,
           "gridcolor": "rgb(232,232,232)",
           "linecolor": "rgb(36,36,36)",
           "showgrid": false,
           "showline": true,
           "ticks": "outside",
           "title": {
            "standoff": 15
           },
           "zeroline": false,
           "zerolinecolor": "rgb(36,36,36)"
          }
         }
        },
        "title": {
         "text": "Which social media platforms are most popular"
        },
        "width": 800,
        "xaxis": {
         "anchor": "y",
         "domain": [
          0,
          1
         ],
         "title": {
          "text": "Year"
         }
        },
        "yaxis": {
         "anchor": "x",
         "domain": [
          0,
          1
         ],
         "title": {
          "text": "percentage"
         }
        }
       }
      }
     },
     "metadata": {},
     "output_type": "display_data"
    }
   ],
   "source": [
    "fig = px.line(us_social_media_tidy, x = \"Year\", y = \"percentage\", color = \"platform\", \n",
    "              title = \"Which social media platforms are most popular\",\n",
    "              markers = True)\n",
    "fig.show()"
   ]
  },
  {
   "cell_type": "code",
   "execution_count": 39,
   "metadata": {},
   "outputs": [
    {
     "data": {
      "application/vnd.plotly.v1+json": {
       "config": {
        "plotlyServerURL": "https://plot.ly"
       },
       "data": [
        {
         "hovertemplate": "Platform=YouTube<br>Year=%{x}<br>Percentage=%{y}<extra></extra>",
         "legendgroup": "YouTube",
         "line": {
          "color": "#1F77B4",
          "dash": "solid"
         },
         "marker": {
          "symbol": "circle"
         },
         "mode": "lines+markers",
         "name": "YouTube",
         "orientation": "v",
         "showlegend": true,
         "type": "scatter",
         "x": [
          "2018-01-10T00:00:00",
          "2019-02-07T00:00:00",
          "2021-02-08T00:00:00",
          "2023-09-05T00:00:00"
         ],
         "xaxis": "x",
         "y": [
          73,
          73,
          81,
          83
         ],
         "yaxis": "y"
        },
        {
         "hovertemplate": "Platform=Facebook<br>Year=%{x}<br>Percentage=%{y}<extra></extra>",
         "legendgroup": "Facebook",
         "line": {
          "color": "#FF7F0E",
          "dash": "solid"
         },
         "marker": {
          "symbol": "circle"
         },
         "mode": "lines+markers",
         "name": "Facebook",
         "orientation": "v",
         "showlegend": true,
         "type": "scatter",
         "x": [
          "2012-08-05T00:00:00",
          "2012-12-16T00:00:00",
          "2013-09-16T00:00:00",
          "2014-09-21T00:00:00",
          "2015-04-12T00:00:00",
          "2016-04-04T00:00:00",
          "2018-01-10T00:00:00",
          "2019-02-07T00:00:00",
          "2021-02-08T00:00:00",
          "2023-09-05T00:00:00"
         ],
         "xaxis": "x",
         "y": [
          54,
          57,
          57,
          58,
          62,
          68,
          68,
          69,
          69,
          68
         ],
         "yaxis": "y"
        },
        {
         "hovertemplate": "Platform=Instagram<br>Year=%{x}<br>Percentage=%{y}<extra></extra>",
         "legendgroup": "Instagram",
         "line": {
          "color": "#2CA02C",
          "dash": "solid"
         },
         "marker": {
          "symbol": "circle"
         },
         "mode": "lines+markers",
         "name": "Instagram",
         "orientation": "v",
         "showlegend": true,
         "type": "scatter",
         "x": [
          "2012-08-05T00:00:00",
          "2012-12-09T00:00:00",
          "2013-09-16T00:00:00",
          "2014-09-21T00:00:00",
          "2015-04-12T00:00:00",
          "2016-04-04T00:00:00",
          "2018-01-10T00:00:00",
          "2019-02-07T00:00:00",
          "2021-02-08T00:00:00",
          "2023-09-05T00:00:00"
         ],
         "xaxis": "x",
         "y": [
          9,
          11,
          14,
          21,
          24,
          28,
          35,
          37,
          40,
          47
         ],
         "yaxis": "y"
        },
        {
         "hovertemplate": "Platform=Pinterest<br>Year=%{x}<br>Percentage=%{y}<extra></extra>",
         "legendgroup": "Pinterest",
         "line": {
          "color": "#D62728",
          "dash": "solid"
         },
         "marker": {
          "symbol": "circle"
         },
         "mode": "lines+markers",
         "name": "Pinterest",
         "orientation": "v",
         "showlegend": true,
         "type": "scatter",
         "x": [
          "2012-08-05T00:00:00",
          "2012-12-09T00:00:00",
          "2013-09-16T00:00:00",
          "2014-09-21T00:00:00",
          "2015-04-12T00:00:00",
          "2016-04-04T00:00:00",
          "2018-01-10T00:00:00",
          "2019-02-07T00:00:00",
          "2021-02-08T00:00:00",
          "2023-09-05T00:00:00"
         ],
         "xaxis": "x",
         "y": [
          10,
          13,
          17,
          22,
          26,
          26,
          29,
          28,
          31,
          35
         ],
         "yaxis": "y"
        },
        {
         "hovertemplate": "Platform=TikTok<br>Year=%{x}<br>Percentage=%{y}<extra></extra>",
         "legendgroup": "TikTok",
         "line": {
          "color": "#9467BD",
          "dash": "solid"
         },
         "marker": {
          "symbol": "circle"
         },
         "mode": "lines+markers",
         "name": "TikTok",
         "orientation": "v",
         "showlegend": true,
         "type": "scatter",
         "x": [
          "2021-02-08T00:00:00",
          "2023-09-05T00:00:00"
         ],
         "xaxis": "x",
         "y": [
          21,
          33
         ],
         "yaxis": "y"
        },
        {
         "hovertemplate": "Platform=LinkedIn<br>Year=%{x}<br>Percentage=%{y}<extra></extra>",
         "legendgroup": "LinkedIn",
         "line": {
          "color": "#8C564B",
          "dash": "solid"
         },
         "marker": {
          "symbol": "circle"
         },
         "mode": "lines+markers",
         "name": "LinkedIn",
         "orientation": "v",
         "showlegend": true,
         "type": "scatter",
         "x": [
          "2012-08-05T00:00:00",
          "2013-09-16T00:00:00",
          "2014-09-21T00:00:00",
          "2015-04-12T00:00:00",
          "2016-04-04T00:00:00",
          "2018-01-10T00:00:00",
          "2019-02-07T00:00:00",
          "2021-02-08T00:00:00",
          "2023-09-05T00:00:00"
         ],
         "xaxis": "x",
         "y": [
          16,
          17,
          23,
          22,
          25,
          25,
          27,
          28,
          30
         ],
         "yaxis": "y"
        },
        {
         "hovertemplate": "Platform=WhatsApp<br>Year=%{x}<br>Percentage=%{y}<extra></extra>",
         "legendgroup": "WhatsApp",
         "line": {
          "color": "#E377C2",
          "dash": "solid"
         },
         "marker": {
          "symbol": "circle"
         },
         "mode": "lines+markers",
         "name": "WhatsApp",
         "orientation": "v",
         "showlegend": true,
         "type": "scatter",
         "x": [
          "2018-01-10T00:00:00",
          "2019-02-07T00:00:00",
          "2021-02-08T00:00:00",
          "2023-09-05T00:00:00"
         ],
         "xaxis": "x",
         "y": [
          22,
          20,
          23,
          29
         ],
         "yaxis": "y"
        },
        {
         "hovertemplate": "Platform=Snapchat<br>Year=%{x}<br>Percentage=%{y}<extra></extra>",
         "legendgroup": "Snapchat",
         "line": {
          "color": "#7F7F7F",
          "dash": "solid"
         },
         "marker": {
          "symbol": "circle"
         },
         "mode": "lines+markers",
         "name": "Snapchat",
         "orientation": "v",
         "showlegend": true,
         "type": "scatter",
         "x": [
          "2018-01-10T00:00:00",
          "2019-02-07T00:00:00",
          "2021-02-08T00:00:00",
          "2023-09-05T00:00:00"
         ],
         "xaxis": "x",
         "y": [
          27,
          24,
          25,
          27
         ],
         "yaxis": "y"
        },
        {
         "hovertemplate": "Platform=Twitter (X)<br>Year=%{x}<br>Percentage=%{y}<extra></extra>",
         "legendgroup": "Twitter (X)",
         "line": {
          "color": "#BCBD22",
          "dash": "solid"
         },
         "marker": {
          "symbol": "circle"
         },
         "mode": "lines+markers",
         "name": "Twitter (X)",
         "orientation": "v",
         "showlegend": true,
         "type": "scatter",
         "x": [
          "2012-08-05T00:00:00",
          "2012-08-07T00:00:00",
          "2012-12-09T00:00:00",
          "2013-05-19T00:00:00",
          "2013-07-14T00:00:00",
          "2013-09-16T00:00:00",
          "2013-09-30T00:00:00",
          "2014-01-26T00:00:00",
          "2014-09-21T00:00:00",
          "2015-04-12T00:00:00",
          "2016-04-04T00:00:00",
          "2018-01-10T00:00:00",
          "2019-02-07T00:00:00",
          "2021-02-08T00:00:00",
          "2023-09-05T00:00:00"
         ],
         "xaxis": "x",
         "y": [
          13,
          14,
          13,
          15,
          16,
          14,
          16,
          16,
          19,
          20,
          21,
          24,
          22,
          23,
          22
         ],
         "yaxis": "y"
        },
        {
         "hovertemplate": "Platform=Reddit<br>Year=%{x}<br>Percentage=%{y}<extra></extra>",
         "legendgroup": "Reddit",
         "line": {
          "color": "#17BECF",
          "dash": "solid"
         },
         "marker": {
          "symbol": "circle"
         },
         "mode": "lines+markers",
         "name": "Reddit",
         "orientation": "v",
         "showlegend": true,
         "type": "scatter",
         "x": [
          "2019-02-07T00:00:00",
          "2021-02-08T00:00:00",
          "2023-09-05T00:00:00"
         ],
         "xaxis": "x",
         "y": [
          11,
          18,
          22
         ],
         "yaxis": "y"
        },
        {
         "hovertemplate": "Platform=BeReal<br>Year=%{x}<br>Percentage=%{y}<extra></extra>",
         "legendgroup": "BeReal",
         "line": {
          "color": "#1F77B4",
          "dash": "solid"
         },
         "marker": {
          "symbol": "circle"
         },
         "mode": "lines+markers",
         "name": "BeReal",
         "orientation": "v",
         "showlegend": true,
         "type": "scatter",
         "x": [
          "2023-09-05T00:00:00"
         ],
         "xaxis": "x",
         "y": [
          3
         ],
         "yaxis": "y"
        },
        {
         "hovertemplate": "Platform=Nextdoor<br>Year=%{x}<br>Percentage=%{y}<extra></extra>",
         "legendgroup": "Nextdoor",
         "line": {
          "color": "#FF7F0E",
          "dash": "solid"
         },
         "marker": {
          "symbol": "circle"
         },
         "mode": "lines+markers",
         "name": "Nextdoor",
         "orientation": "v",
         "showlegend": true,
         "type": "scatter",
         "x": [
          "2021-02-08T00:00:00"
         ],
         "xaxis": "x",
         "y": [
          13
         ],
         "yaxis": "y"
        }
       ],
       "layout": {
        "height": 600,
        "legend": {
         "title": {
          "text": "Platform"
         },
         "tracegroupgap": 0
        },
        "template": {
         "data": {
          "bar": [
           {
            "error_x": {
             "color": "rgb(36,36,36)"
            },
            "error_y": {
             "color": "rgb(36,36,36)"
            },
            "marker": {
             "line": {
              "color": "white",
              "width": 0.5
             },
             "pattern": {
              "fillmode": "overlay",
              "size": 10,
              "solidity": 0.2
             }
            },
            "type": "bar"
           }
          ],
          "barpolar": [
           {
            "marker": {
             "line": {
              "color": "white",
              "width": 0.5
             },
             "pattern": {
              "fillmode": "overlay",
              "size": 10,
              "solidity": 0.2
             }
            },
            "type": "barpolar"
           }
          ],
          "carpet": [
           {
            "aaxis": {
             "endlinecolor": "rgb(36,36,36)",
             "gridcolor": "white",
             "linecolor": "white",
             "minorgridcolor": "white",
             "startlinecolor": "rgb(36,36,36)"
            },
            "baxis": {
             "endlinecolor": "rgb(36,36,36)",
             "gridcolor": "white",
             "linecolor": "white",
             "minorgridcolor": "white",
             "startlinecolor": "rgb(36,36,36)"
            },
            "type": "carpet"
           }
          ],
          "choropleth": [
           {
            "colorbar": {
             "outlinewidth": 1,
             "tickcolor": "rgb(36,36,36)",
             "ticks": "outside"
            },
            "type": "choropleth"
           }
          ],
          "contour": [
           {
            "colorbar": {
             "outlinewidth": 1,
             "tickcolor": "rgb(36,36,36)",
             "ticks": "outside"
            },
            "colorscale": [
             [
              0,
              "#440154"
             ],
             [
              0.1111111111111111,
              "#482878"
             ],
             [
              0.2222222222222222,
              "#3e4989"
             ],
             [
              0.3333333333333333,
              "#31688e"
             ],
             [
              0.4444444444444444,
              "#26828e"
             ],
             [
              0.5555555555555556,
              "#1f9e89"
             ],
             [
              0.6666666666666666,
              "#35b779"
             ],
             [
              0.7777777777777778,
              "#6ece58"
             ],
             [
              0.8888888888888888,
              "#b5de2b"
             ],
             [
              1,
              "#fde725"
             ]
            ],
            "type": "contour"
           }
          ],
          "contourcarpet": [
           {
            "colorbar": {
             "outlinewidth": 1,
             "tickcolor": "rgb(36,36,36)",
             "ticks": "outside"
            },
            "type": "contourcarpet"
           }
          ],
          "heatmap": [
           {
            "colorbar": {
             "outlinewidth": 1,
             "tickcolor": "rgb(36,36,36)",
             "ticks": "outside"
            },
            "colorscale": [
             [
              0,
              "#440154"
             ],
             [
              0.1111111111111111,
              "#482878"
             ],
             [
              0.2222222222222222,
              "#3e4989"
             ],
             [
              0.3333333333333333,
              "#31688e"
             ],
             [
              0.4444444444444444,
              "#26828e"
             ],
             [
              0.5555555555555556,
              "#1f9e89"
             ],
             [
              0.6666666666666666,
              "#35b779"
             ],
             [
              0.7777777777777778,
              "#6ece58"
             ],
             [
              0.8888888888888888,
              "#b5de2b"
             ],
             [
              1,
              "#fde725"
             ]
            ],
            "type": "heatmap"
           }
          ],
          "heatmapgl": [
           {
            "colorbar": {
             "outlinewidth": 1,
             "tickcolor": "rgb(36,36,36)",
             "ticks": "outside"
            },
            "colorscale": [
             [
              0,
              "#440154"
             ],
             [
              0.1111111111111111,
              "#482878"
             ],
             [
              0.2222222222222222,
              "#3e4989"
             ],
             [
              0.3333333333333333,
              "#31688e"
             ],
             [
              0.4444444444444444,
              "#26828e"
             ],
             [
              0.5555555555555556,
              "#1f9e89"
             ],
             [
              0.6666666666666666,
              "#35b779"
             ],
             [
              0.7777777777777778,
              "#6ece58"
             ],
             [
              0.8888888888888888,
              "#b5de2b"
             ],
             [
              1,
              "#fde725"
             ]
            ],
            "type": "heatmapgl"
           }
          ],
          "histogram": [
           {
            "marker": {
             "line": {
              "color": "white",
              "width": 0.6
             }
            },
            "type": "histogram"
           }
          ],
          "histogram2d": [
           {
            "colorbar": {
             "outlinewidth": 1,
             "tickcolor": "rgb(36,36,36)",
             "ticks": "outside"
            },
            "colorscale": [
             [
              0,
              "#440154"
             ],
             [
              0.1111111111111111,
              "#482878"
             ],
             [
              0.2222222222222222,
              "#3e4989"
             ],
             [
              0.3333333333333333,
              "#31688e"
             ],
             [
              0.4444444444444444,
              "#26828e"
             ],
             [
              0.5555555555555556,
              "#1f9e89"
             ],
             [
              0.6666666666666666,
              "#35b779"
             ],
             [
              0.7777777777777778,
              "#6ece58"
             ],
             [
              0.8888888888888888,
              "#b5de2b"
             ],
             [
              1,
              "#fde725"
             ]
            ],
            "type": "histogram2d"
           }
          ],
          "histogram2dcontour": [
           {
            "colorbar": {
             "outlinewidth": 1,
             "tickcolor": "rgb(36,36,36)",
             "ticks": "outside"
            },
            "colorscale": [
             [
              0,
              "#440154"
             ],
             [
              0.1111111111111111,
              "#482878"
             ],
             [
              0.2222222222222222,
              "#3e4989"
             ],
             [
              0.3333333333333333,
              "#31688e"
             ],
             [
              0.4444444444444444,
              "#26828e"
             ],
             [
              0.5555555555555556,
              "#1f9e89"
             ],
             [
              0.6666666666666666,
              "#35b779"
             ],
             [
              0.7777777777777778,
              "#6ece58"
             ],
             [
              0.8888888888888888,
              "#b5de2b"
             ],
             [
              1,
              "#fde725"
             ]
            ],
            "type": "histogram2dcontour"
           }
          ],
          "mesh3d": [
           {
            "colorbar": {
             "outlinewidth": 1,
             "tickcolor": "rgb(36,36,36)",
             "ticks": "outside"
            },
            "type": "mesh3d"
           }
          ],
          "parcoords": [
           {
            "line": {
             "colorbar": {
              "outlinewidth": 1,
              "tickcolor": "rgb(36,36,36)",
              "ticks": "outside"
             }
            },
            "type": "parcoords"
           }
          ],
          "pie": [
           {
            "automargin": true,
            "type": "pie"
           }
          ],
          "scatter": [
           {
            "fillpattern": {
             "fillmode": "overlay",
             "size": 10,
             "solidity": 0.2
            },
            "type": "scatter"
           }
          ],
          "scatter3d": [
           {
            "line": {
             "colorbar": {
              "outlinewidth": 1,
              "tickcolor": "rgb(36,36,36)",
              "ticks": "outside"
             }
            },
            "marker": {
             "colorbar": {
              "outlinewidth": 1,
              "tickcolor": "rgb(36,36,36)",
              "ticks": "outside"
             }
            },
            "type": "scatter3d"
           }
          ],
          "scattercarpet": [
           {
            "marker": {
             "colorbar": {
              "outlinewidth": 1,
              "tickcolor": "rgb(36,36,36)",
              "ticks": "outside"
             }
            },
            "type": "scattercarpet"
           }
          ],
          "scattergeo": [
           {
            "marker": {
             "colorbar": {
              "outlinewidth": 1,
              "tickcolor": "rgb(36,36,36)",
              "ticks": "outside"
             }
            },
            "type": "scattergeo"
           }
          ],
          "scattergl": [
           {
            "marker": {
             "colorbar": {
              "outlinewidth": 1,
              "tickcolor": "rgb(36,36,36)",
              "ticks": "outside"
             }
            },
            "type": "scattergl"
           }
          ],
          "scattermapbox": [
           {
            "marker": {
             "colorbar": {
              "outlinewidth": 1,
              "tickcolor": "rgb(36,36,36)",
              "ticks": "outside"
             }
            },
            "type": "scattermapbox"
           }
          ],
          "scatterpolar": [
           {
            "marker": {
             "colorbar": {
              "outlinewidth": 1,
              "tickcolor": "rgb(36,36,36)",
              "ticks": "outside"
             }
            },
            "type": "scatterpolar"
           }
          ],
          "scatterpolargl": [
           {
            "marker": {
             "colorbar": {
              "outlinewidth": 1,
              "tickcolor": "rgb(36,36,36)",
              "ticks": "outside"
             }
            },
            "type": "scatterpolargl"
           }
          ],
          "scatterternary": [
           {
            "marker": {
             "colorbar": {
              "outlinewidth": 1,
              "tickcolor": "rgb(36,36,36)",
              "ticks": "outside"
             }
            },
            "type": "scatterternary"
           }
          ],
          "surface": [
           {
            "colorbar": {
             "outlinewidth": 1,
             "tickcolor": "rgb(36,36,36)",
             "ticks": "outside"
            },
            "colorscale": [
             [
              0,
              "#440154"
             ],
             [
              0.1111111111111111,
              "#482878"
             ],
             [
              0.2222222222222222,
              "#3e4989"
             ],
             [
              0.3333333333333333,
              "#31688e"
             ],
             [
              0.4444444444444444,
              "#26828e"
             ],
             [
              0.5555555555555556,
              "#1f9e89"
             ],
             [
              0.6666666666666666,
              "#35b779"
             ],
             [
              0.7777777777777778,
              "#6ece58"
             ],
             [
              0.8888888888888888,
              "#b5de2b"
             ],
             [
              1,
              "#fde725"
             ]
            ],
            "type": "surface"
           }
          ],
          "table": [
           {
            "cells": {
             "fill": {
              "color": "rgb(237,237,237)"
             },
             "line": {
              "color": "white"
             }
            },
            "header": {
             "fill": {
              "color": "rgb(217,217,217)"
             },
             "line": {
              "color": "white"
             }
            },
            "type": "table"
           }
          ]
         },
         "layout": {
          "annotationdefaults": {
           "arrowhead": 0,
           "arrowwidth": 1
          },
          "autotypenumbers": "strict",
          "coloraxis": {
           "colorbar": {
            "outlinewidth": 1,
            "tickcolor": "rgb(36,36,36)",
            "ticks": "outside"
           }
          },
          "colorscale": {
           "diverging": [
            [
             0,
             "rgb(103,0,31)"
            ],
            [
             0.1,
             "rgb(178,24,43)"
            ],
            [
             0.2,
             "rgb(214,96,77)"
            ],
            [
             0.3,
             "rgb(244,165,130)"
            ],
            [
             0.4,
             "rgb(253,219,199)"
            ],
            [
             0.5,
             "rgb(247,247,247)"
            ],
            [
             0.6,
             "rgb(209,229,240)"
            ],
            [
             0.7,
             "rgb(146,197,222)"
            ],
            [
             0.8,
             "rgb(67,147,195)"
            ],
            [
             0.9,
             "rgb(33,102,172)"
            ],
            [
             1,
             "rgb(5,48,97)"
            ]
           ],
           "sequential": [
            [
             0,
             "#440154"
            ],
            [
             0.1111111111111111,
             "#482878"
            ],
            [
             0.2222222222222222,
             "#3e4989"
            ],
            [
             0.3333333333333333,
             "#31688e"
            ],
            [
             0.4444444444444444,
             "#26828e"
            ],
            [
             0.5555555555555556,
             "#1f9e89"
            ],
            [
             0.6666666666666666,
             "#35b779"
            ],
            [
             0.7777777777777778,
             "#6ece58"
            ],
            [
             0.8888888888888888,
             "#b5de2b"
            ],
            [
             1,
             "#fde725"
            ]
           ],
           "sequentialminus": [
            [
             0,
             "#440154"
            ],
            [
             0.1111111111111111,
             "#482878"
            ],
            [
             0.2222222222222222,
             "#3e4989"
            ],
            [
             0.3333333333333333,
             "#31688e"
            ],
            [
             0.4444444444444444,
             "#26828e"
            ],
            [
             0.5555555555555556,
             "#1f9e89"
            ],
            [
             0.6666666666666666,
             "#35b779"
            ],
            [
             0.7777777777777778,
             "#6ece58"
            ],
            [
             0.8888888888888888,
             "#b5de2b"
            ],
            [
             1,
             "#fde725"
            ]
           ]
          },
          "colorway": [
           "#1F77B4",
           "#FF7F0E",
           "#2CA02C",
           "#D62728",
           "#9467BD",
           "#8C564B",
           "#E377C2",
           "#7F7F7F",
           "#BCBD22",
           "#17BECF"
          ],
          "font": {
           "color": "rgb(36,36,36)"
          },
          "geo": {
           "bgcolor": "white",
           "lakecolor": "white",
           "landcolor": "white",
           "showlakes": true,
           "showland": true,
           "subunitcolor": "white"
          },
          "hoverlabel": {
           "align": "left"
          },
          "hovermode": "closest",
          "mapbox": {
           "style": "light"
          },
          "paper_bgcolor": "white",
          "plot_bgcolor": "white",
          "polar": {
           "angularaxis": {
            "gridcolor": "rgb(232,232,232)",
            "linecolor": "rgb(36,36,36)",
            "showgrid": false,
            "showline": true,
            "ticks": "outside"
           },
           "bgcolor": "white",
           "radialaxis": {
            "gridcolor": "rgb(232,232,232)",
            "linecolor": "rgb(36,36,36)",
            "showgrid": false,
            "showline": true,
            "ticks": "outside"
           }
          },
          "scene": {
           "xaxis": {
            "backgroundcolor": "white",
            "gridcolor": "rgb(232,232,232)",
            "gridwidth": 2,
            "linecolor": "rgb(36,36,36)",
            "showbackground": true,
            "showgrid": false,
            "showline": true,
            "ticks": "outside",
            "zeroline": false,
            "zerolinecolor": "rgb(36,36,36)"
           },
           "yaxis": {
            "backgroundcolor": "white",
            "gridcolor": "rgb(232,232,232)",
            "gridwidth": 2,
            "linecolor": "rgb(36,36,36)",
            "showbackground": true,
            "showgrid": false,
            "showline": true,
            "ticks": "outside",
            "zeroline": false,
            "zerolinecolor": "rgb(36,36,36)"
           },
           "zaxis": {
            "backgroundcolor": "white",
            "gridcolor": "rgb(232,232,232)",
            "gridwidth": 2,
            "linecolor": "rgb(36,36,36)",
            "showbackground": true,
            "showgrid": false,
            "showline": true,
            "ticks": "outside",
            "zeroline": false,
            "zerolinecolor": "rgb(36,36,36)"
           }
          },
          "shapedefaults": {
           "fillcolor": "black",
           "line": {
            "width": 0
           },
           "opacity": 0.3
          },
          "ternary": {
           "aaxis": {
            "gridcolor": "rgb(232,232,232)",
            "linecolor": "rgb(36,36,36)",
            "showgrid": false,
            "showline": true,
            "ticks": "outside"
           },
           "baxis": {
            "gridcolor": "rgb(232,232,232)",
            "linecolor": "rgb(36,36,36)",
            "showgrid": false,
            "showline": true,
            "ticks": "outside"
           },
           "bgcolor": "white",
           "caxis": {
            "gridcolor": "rgb(232,232,232)",
            "linecolor": "rgb(36,36,36)",
            "showgrid": false,
            "showline": true,
            "ticks": "outside"
           }
          },
          "title": {
           "x": 0.05
          },
          "xaxis": {
           "automargin": true,
           "gridcolor": "rgb(232,232,232)",
           "linecolor": "rgb(36,36,36)",
           "showgrid": false,
           "showline": true,
           "ticks": "outside",
           "title": {
            "standoff": 15
           },
           "zeroline": false,
           "zerolinecolor": "rgb(36,36,36)"
          },
          "yaxis": {
           "automargin": true,
           "gridcolor": "rgb(232,232,232)",
           "linecolor": "rgb(36,36,36)",
           "showgrid": false,
           "showline": true,
           "ticks": "outside",
           "title": {
            "standoff": 15
           },
           "zeroline": false,
           "zerolinecolor": "rgb(36,36,36)"
          }
         }
        },
        "title": {
         "text": "Which social media platforms are most popular"
        },
        "width": 800,
        "xaxis": {
         "anchor": "y",
         "domain": [
          0,
          1
         ],
         "title": {
          "text": "Year"
         }
        },
        "yaxis": {
         "anchor": "x",
         "domain": [
          0,
          1
         ],
         "title": {
          "text": "Percentage"
         }
        }
       }
      }
     },
     "metadata": {},
     "output_type": "display_data"
    }
   ],
   "source": [
    "import pandas as pd\n",
    "import plotly.express as px\n",
    "\n",
    "# Load the dataset\n",
    "file_path = '../data/which_social_media_platforms_are_most_popular_data_2024-01-31-2.csv'\n",
    "social_media_data = pd.read_csv(file_path)\n",
    "\n",
    "# Cleaning and transforming the data to a tidy format suitable for Plotly\n",
    "# Removing percentage signs and converting to numeric values\n",
    "social_media_data_long = social_media_data.melt(id_vars=[\"Year\"], \n",
    "                                                var_name=\"Platform\", \n",
    "                                                value_name=\"Percentage\")\n",
    "social_media_data_long['Percentage'] = social_media_data_long['Percentage'].str.replace('%', '').astype(float)\n",
    "social_media_data_long['Year'] = pd.to_datetime(social_media_data_long['Year'], errors='coerce')\n",
    "\n",
    "# Dropping rows with NaN values in the Year or Percentage columns\n",
    "social_media_data_long.dropna(subset=['Year', 'Percentage'], inplace=True)\n",
    "\n",
    "# Creating the interactive plot using plotly.express\n",
    "fig_line = px.line(\n",
    "    social_media_data_long, \n",
    "    x=\"Year\", \n",
    "    y=\"Percentage\", \n",
    "    color=\"Platform\",\n",
    "    title=\"Which social media platforms are most popular\",\n",
    "    markers=True\n",
    ")\n",
    "\n",
    "# Show the interactive plot\n",
    "fig_line.show()\n"
   ]
  },
  {
   "cell_type": "code",
   "execution_count": 38,
   "metadata": {},
   "outputs": [],
   "source": [
    "import plotly.graph_objects as go"
   ]
  },
  {
   "cell_type": "code",
   "execution_count": 85,
   "metadata": {},
   "outputs": [
    {
     "data": {
      "application/vnd.plotly.v1+json": {
       "config": {
        "plotlyServerURL": "https://plot.ly"
       },
       "data": [
        {
         "hovertemplate": "%{x|%d-%m-%Y} <br> %{fullData.name}: %{y} <extra></extra>",
         "legendgroup": "YouTube",
         "line": {
          "color": "rgb(102, 197, 204)",
          "dash": "solid"
         },
         "marker": {
          "size": 8,
          "symbol": "circle"
         },
         "mode": "lines+markers",
         "name": "YouTube",
         "orientation": "v",
         "showlegend": true,
         "type": "scatter",
         "x": [
          "2018-01-10T00:00:00",
          "2019-02-07T00:00:00",
          "2021-02-08T00:00:00",
          "2023-09-05T00:00:00"
         ],
         "xaxis": "x",
         "y": [
          73,
          73,
          81,
          83
         ],
         "yaxis": "y"
        },
        {
         "hovertemplate": "%{x|%d-%m-%Y} <br> %{fullData.name}: %{y} <extra></extra>",
         "legendgroup": "Facebook",
         "line": {
          "color": "rgb(246, 207, 113)",
          "dash": "solid"
         },
         "marker": {
          "size": 8,
          "symbol": "circle"
         },
         "mode": "lines+markers",
         "name": "Facebook",
         "orientation": "v",
         "showlegend": true,
         "type": "scatter",
         "x": [
          "2012-08-05T00:00:00",
          "2012-12-16T00:00:00",
          "2013-09-16T00:00:00",
          "2014-09-21T00:00:00",
          "2015-04-12T00:00:00",
          "2016-04-04T00:00:00",
          "2018-01-10T00:00:00",
          "2019-02-07T00:00:00",
          "2021-02-08T00:00:00",
          "2023-09-05T00:00:00"
         ],
         "xaxis": "x",
         "y": [
          54,
          57,
          57,
          58,
          62,
          68,
          68,
          69,
          69,
          68
         ],
         "yaxis": "y"
        },
        {
         "hovertemplate": "%{x|%d-%m-%Y} <br> %{fullData.name}: %{y} <extra></extra>",
         "legendgroup": "Instagram",
         "line": {
          "color": "rgb(248, 156, 116)",
          "dash": "solid"
         },
         "marker": {
          "size": 8,
          "symbol": "circle"
         },
         "mode": "lines+markers",
         "name": "Instagram",
         "orientation": "v",
         "showlegend": true,
         "type": "scatter",
         "x": [
          "2012-08-05T00:00:00",
          "2012-12-09T00:00:00",
          "2013-09-16T00:00:00",
          "2014-09-21T00:00:00",
          "2015-04-12T00:00:00",
          "2016-04-04T00:00:00",
          "2018-01-10T00:00:00",
          "2019-02-07T00:00:00",
          "2021-02-08T00:00:00",
          "2023-09-05T00:00:00"
         ],
         "xaxis": "x",
         "y": [
          9,
          11,
          14,
          21,
          24,
          28,
          35,
          37,
          40,
          47
         ],
         "yaxis": "y"
        },
        {
         "hovertemplate": "%{x|%d-%m-%Y} <br> %{fullData.name}: %{y} <extra></extra>",
         "legendgroup": "Pinterest",
         "line": {
          "color": "rgb(220, 176, 242)",
          "dash": "solid"
         },
         "marker": {
          "size": 8,
          "symbol": "circle"
         },
         "mode": "lines+markers",
         "name": "Pinterest",
         "orientation": "v",
         "showlegend": true,
         "type": "scatter",
         "x": [
          "2012-08-05T00:00:00",
          "2012-12-09T00:00:00",
          "2013-09-16T00:00:00",
          "2014-09-21T00:00:00",
          "2015-04-12T00:00:00",
          "2016-04-04T00:00:00",
          "2018-01-10T00:00:00",
          "2019-02-07T00:00:00",
          "2021-02-08T00:00:00",
          "2023-09-05T00:00:00"
         ],
         "xaxis": "x",
         "y": [
          10,
          13,
          17,
          22,
          26,
          26,
          29,
          28,
          31,
          35
         ],
         "yaxis": "y"
        },
        {
         "hovertemplate": "%{x|%d-%m-%Y} <br> %{fullData.name}: %{y} <extra></extra>",
         "legendgroup": "TikTok",
         "line": {
          "color": "rgb(135, 197, 95)",
          "dash": "solid"
         },
         "marker": {
          "size": 8,
          "symbol": "circle"
         },
         "mode": "lines+markers",
         "name": "TikTok",
         "orientation": "v",
         "showlegend": true,
         "type": "scatter",
         "x": [
          "2021-02-08T00:00:00",
          "2023-09-05T00:00:00"
         ],
         "xaxis": "x",
         "y": [
          21,
          33
         ],
         "yaxis": "y"
        },
        {
         "hovertemplate": "%{x|%d-%m-%Y} <br> %{fullData.name}: %{y} <extra></extra>",
         "legendgroup": "LinkedIn",
         "line": {
          "color": "rgb(158, 185, 243)",
          "dash": "solid"
         },
         "marker": {
          "size": 8,
          "symbol": "circle"
         },
         "mode": "lines+markers",
         "name": "LinkedIn",
         "orientation": "v",
         "showlegend": true,
         "type": "scatter",
         "x": [
          "2012-08-05T00:00:00",
          "2013-09-16T00:00:00",
          "2014-09-21T00:00:00",
          "2015-04-12T00:00:00",
          "2016-04-04T00:00:00",
          "2018-01-10T00:00:00",
          "2019-02-07T00:00:00",
          "2021-02-08T00:00:00",
          "2023-09-05T00:00:00"
         ],
         "xaxis": "x",
         "y": [
          16,
          17,
          23,
          22,
          25,
          25,
          27,
          28,
          30
         ],
         "yaxis": "y"
        },
        {
         "hovertemplate": "%{x|%d-%m-%Y} <br> %{fullData.name}: %{y} <extra></extra>",
         "legendgroup": "WhatsApp",
         "line": {
          "color": "rgb(254, 136, 177)",
          "dash": "solid"
         },
         "marker": {
          "size": 8,
          "symbol": "circle"
         },
         "mode": "lines+markers",
         "name": "WhatsApp",
         "orientation": "v",
         "showlegend": true,
         "type": "scatter",
         "x": [
          "2018-01-10T00:00:00",
          "2019-02-07T00:00:00",
          "2021-02-08T00:00:00",
          "2023-09-05T00:00:00"
         ],
         "xaxis": "x",
         "y": [
          22,
          20,
          23,
          29
         ],
         "yaxis": "y"
        },
        {
         "hovertemplate": "%{x|%d-%m-%Y} <br> %{fullData.name}: %{y} <extra></extra>",
         "legendgroup": "Snapchat",
         "line": {
          "color": "rgb(201, 219, 116)",
          "dash": "solid"
         },
         "marker": {
          "size": 8,
          "symbol": "circle"
         },
         "mode": "lines+markers",
         "name": "Snapchat",
         "orientation": "v",
         "showlegend": true,
         "type": "scatter",
         "x": [
          "2018-01-10T00:00:00",
          "2019-02-07T00:00:00",
          "2021-02-08T00:00:00",
          "2023-09-05T00:00:00"
         ],
         "xaxis": "x",
         "y": [
          27,
          24,
          25,
          27
         ],
         "yaxis": "y"
        },
        {
         "hovertemplate": "%{x|%d-%m-%Y} <br> %{fullData.name}: %{y} <extra></extra>",
         "legendgroup": "Twitter (X)",
         "line": {
          "color": "rgb(139, 224, 164)",
          "dash": "solid"
         },
         "marker": {
          "size": 8,
          "symbol": "circle"
         },
         "mode": "lines+markers",
         "name": "Twitter (X)",
         "orientation": "v",
         "showlegend": true,
         "type": "scatter",
         "x": [
          "2012-08-05T00:00:00",
          "2012-08-07T00:00:00",
          "2012-12-09T00:00:00",
          "2013-05-19T00:00:00",
          "2013-07-14T00:00:00",
          "2013-09-16T00:00:00",
          "2013-09-30T00:00:00",
          "2014-01-26T00:00:00",
          "2014-09-21T00:00:00",
          "2015-04-12T00:00:00",
          "2016-04-04T00:00:00",
          "2018-01-10T00:00:00",
          "2019-02-07T00:00:00",
          "2021-02-08T00:00:00",
          "2023-09-05T00:00:00"
         ],
         "xaxis": "x",
         "y": [
          13,
          14,
          13,
          15,
          16,
          14,
          16,
          16,
          19,
          20,
          21,
          24,
          22,
          23,
          22
         ],
         "yaxis": "y"
        },
        {
         "hovertemplate": "%{x|%d-%m-%Y} <br> %{fullData.name}: %{y} <extra></extra>",
         "legendgroup": "Reddit",
         "line": {
          "color": "rgb(180, 151, 231)",
          "dash": "solid"
         },
         "marker": {
          "size": 8,
          "symbol": "circle"
         },
         "mode": "lines+markers",
         "name": "Reddit",
         "orientation": "v",
         "showlegend": true,
         "type": "scatter",
         "x": [
          "2019-02-07T00:00:00",
          "2021-02-08T00:00:00",
          "2023-09-05T00:00:00"
         ],
         "xaxis": "x",
         "y": [
          11,
          18,
          22
         ],
         "yaxis": "y"
        },
        {
         "hovertemplate": "%{x|%d-%m-%Y} <br> %{fullData.name}: %{y} <extra></extra>",
         "legendgroup": "BeReal",
         "line": {
          "color": "rgb(179, 179, 179)",
          "dash": "solid"
         },
         "marker": {
          "size": 8,
          "symbol": "circle"
         },
         "mode": "lines+markers",
         "name": "BeReal",
         "orientation": "v",
         "showlegend": true,
         "type": "scatter",
         "x": [
          "2023-09-05T00:00:00"
         ],
         "xaxis": "x",
         "y": [
          3
         ],
         "yaxis": "y"
        },
        {
         "hovertemplate": "%{x|%d-%m-%Y} <br> %{fullData.name}: %{y} <extra></extra>",
         "legendgroup": "Nextdoor",
         "line": {
          "color": "rgb(102, 197, 204)",
          "dash": "solid"
         },
         "marker": {
          "size": 8,
          "symbol": "circle"
         },
         "mode": "lines+markers",
         "name": "Nextdoor",
         "orientation": "v",
         "showlegend": true,
         "type": "scatter",
         "x": [
          "2021-02-08T00:00:00"
         ],
         "xaxis": "x",
         "y": [
          13
         ],
         "yaxis": "y"
        }
       ],
       "layout": {
        "annotations": [
         {
          "font": {
           "color": "gray",
           "size": 12
          },
          "showarrow": false,
          "text": "Change in survey mode --",
          "x": "2022-01-01",
          "xanchor": "left",
          "xshift": -160,
          "y": 95
         }
        ],
        "height": 600,
        "legend": {
         "title": {
          "text": "Platform"
         },
         "tracegroupgap": 0
        },
        "shapes": [
         {
          "line": {
           "color": "gray",
           "width": 2
          },
          "type": "line",
          "x0": "2022-01-01",
          "x1": "2022-01-01",
          "xref": "x",
          "y0": 0,
          "y1": 1,
          "yref": "y domain"
         }
        ],
        "template": {
         "data": {
          "bar": [
           {
            "error_x": {
             "color": "rgb(36,36,36)"
            },
            "error_y": {
             "color": "rgb(36,36,36)"
            },
            "marker": {
             "line": {
              "color": "white",
              "width": 0.5
             },
             "pattern": {
              "fillmode": "overlay",
              "size": 10,
              "solidity": 0.2
             }
            },
            "type": "bar"
           }
          ],
          "barpolar": [
           {
            "marker": {
             "line": {
              "color": "white",
              "width": 0.5
             },
             "pattern": {
              "fillmode": "overlay",
              "size": 10,
              "solidity": 0.2
             }
            },
            "type": "barpolar"
           }
          ],
          "carpet": [
           {
            "aaxis": {
             "endlinecolor": "rgb(36,36,36)",
             "gridcolor": "white",
             "linecolor": "white",
             "minorgridcolor": "white",
             "startlinecolor": "rgb(36,36,36)"
            },
            "baxis": {
             "endlinecolor": "rgb(36,36,36)",
             "gridcolor": "white",
             "linecolor": "white",
             "minorgridcolor": "white",
             "startlinecolor": "rgb(36,36,36)"
            },
            "type": "carpet"
           }
          ],
          "choropleth": [
           {
            "colorbar": {
             "outlinewidth": 1,
             "tickcolor": "rgb(36,36,36)",
             "ticks": "outside"
            },
            "type": "choropleth"
           }
          ],
          "contour": [
           {
            "colorbar": {
             "outlinewidth": 1,
             "tickcolor": "rgb(36,36,36)",
             "ticks": "outside"
            },
            "colorscale": [
             [
              0,
              "#440154"
             ],
             [
              0.1111111111111111,
              "#482878"
             ],
             [
              0.2222222222222222,
              "#3e4989"
             ],
             [
              0.3333333333333333,
              "#31688e"
             ],
             [
              0.4444444444444444,
              "#26828e"
             ],
             [
              0.5555555555555556,
              "#1f9e89"
             ],
             [
              0.6666666666666666,
              "#35b779"
             ],
             [
              0.7777777777777778,
              "#6ece58"
             ],
             [
              0.8888888888888888,
              "#b5de2b"
             ],
             [
              1,
              "#fde725"
             ]
            ],
            "type": "contour"
           }
          ],
          "contourcarpet": [
           {
            "colorbar": {
             "outlinewidth": 1,
             "tickcolor": "rgb(36,36,36)",
             "ticks": "outside"
            },
            "type": "contourcarpet"
           }
          ],
          "heatmap": [
           {
            "colorbar": {
             "outlinewidth": 1,
             "tickcolor": "rgb(36,36,36)",
             "ticks": "outside"
            },
            "colorscale": [
             [
              0,
              "#440154"
             ],
             [
              0.1111111111111111,
              "#482878"
             ],
             [
              0.2222222222222222,
              "#3e4989"
             ],
             [
              0.3333333333333333,
              "#31688e"
             ],
             [
              0.4444444444444444,
              "#26828e"
             ],
             [
              0.5555555555555556,
              "#1f9e89"
             ],
             [
              0.6666666666666666,
              "#35b779"
             ],
             [
              0.7777777777777778,
              "#6ece58"
             ],
             [
              0.8888888888888888,
              "#b5de2b"
             ],
             [
              1,
              "#fde725"
             ]
            ],
            "type": "heatmap"
           }
          ],
          "heatmapgl": [
           {
            "colorbar": {
             "outlinewidth": 1,
             "tickcolor": "rgb(36,36,36)",
             "ticks": "outside"
            },
            "colorscale": [
             [
              0,
              "#440154"
             ],
             [
              0.1111111111111111,
              "#482878"
             ],
             [
              0.2222222222222222,
              "#3e4989"
             ],
             [
              0.3333333333333333,
              "#31688e"
             ],
             [
              0.4444444444444444,
              "#26828e"
             ],
             [
              0.5555555555555556,
              "#1f9e89"
             ],
             [
              0.6666666666666666,
              "#35b779"
             ],
             [
              0.7777777777777778,
              "#6ece58"
             ],
             [
              0.8888888888888888,
              "#b5de2b"
             ],
             [
              1,
              "#fde725"
             ]
            ],
            "type": "heatmapgl"
           }
          ],
          "histogram": [
           {
            "marker": {
             "line": {
              "color": "white",
              "width": 0.6
             }
            },
            "type": "histogram"
           }
          ],
          "histogram2d": [
           {
            "colorbar": {
             "outlinewidth": 1,
             "tickcolor": "rgb(36,36,36)",
             "ticks": "outside"
            },
            "colorscale": [
             [
              0,
              "#440154"
             ],
             [
              0.1111111111111111,
              "#482878"
             ],
             [
              0.2222222222222222,
              "#3e4989"
             ],
             [
              0.3333333333333333,
              "#31688e"
             ],
             [
              0.4444444444444444,
              "#26828e"
             ],
             [
              0.5555555555555556,
              "#1f9e89"
             ],
             [
              0.6666666666666666,
              "#35b779"
             ],
             [
              0.7777777777777778,
              "#6ece58"
             ],
             [
              0.8888888888888888,
              "#b5de2b"
             ],
             [
              1,
              "#fde725"
             ]
            ],
            "type": "histogram2d"
           }
          ],
          "histogram2dcontour": [
           {
            "colorbar": {
             "outlinewidth": 1,
             "tickcolor": "rgb(36,36,36)",
             "ticks": "outside"
            },
            "colorscale": [
             [
              0,
              "#440154"
             ],
             [
              0.1111111111111111,
              "#482878"
             ],
             [
              0.2222222222222222,
              "#3e4989"
             ],
             [
              0.3333333333333333,
              "#31688e"
             ],
             [
              0.4444444444444444,
              "#26828e"
             ],
             [
              0.5555555555555556,
              "#1f9e89"
             ],
             [
              0.6666666666666666,
              "#35b779"
             ],
             [
              0.7777777777777778,
              "#6ece58"
             ],
             [
              0.8888888888888888,
              "#b5de2b"
             ],
             [
              1,
              "#fde725"
             ]
            ],
            "type": "histogram2dcontour"
           }
          ],
          "mesh3d": [
           {
            "colorbar": {
             "outlinewidth": 1,
             "tickcolor": "rgb(36,36,36)",
             "ticks": "outside"
            },
            "type": "mesh3d"
           }
          ],
          "parcoords": [
           {
            "line": {
             "colorbar": {
              "outlinewidth": 1,
              "tickcolor": "rgb(36,36,36)",
              "ticks": "outside"
             }
            },
            "type": "parcoords"
           }
          ],
          "pie": [
           {
            "automargin": true,
            "type": "pie"
           }
          ],
          "scatter": [
           {
            "fillpattern": {
             "fillmode": "overlay",
             "size": 10,
             "solidity": 0.2
            },
            "type": "scatter"
           }
          ],
          "scatter3d": [
           {
            "line": {
             "colorbar": {
              "outlinewidth": 1,
              "tickcolor": "rgb(36,36,36)",
              "ticks": "outside"
             }
            },
            "marker": {
             "colorbar": {
              "outlinewidth": 1,
              "tickcolor": "rgb(36,36,36)",
              "ticks": "outside"
             }
            },
            "type": "scatter3d"
           }
          ],
          "scattercarpet": [
           {
            "marker": {
             "colorbar": {
              "outlinewidth": 1,
              "tickcolor": "rgb(36,36,36)",
              "ticks": "outside"
             }
            },
            "type": "scattercarpet"
           }
          ],
          "scattergeo": [
           {
            "marker": {
             "colorbar": {
              "outlinewidth": 1,
              "tickcolor": "rgb(36,36,36)",
              "ticks": "outside"
             }
            },
            "type": "scattergeo"
           }
          ],
          "scattergl": [
           {
            "marker": {
             "colorbar": {
              "outlinewidth": 1,
              "tickcolor": "rgb(36,36,36)",
              "ticks": "outside"
             }
            },
            "type": "scattergl"
           }
          ],
          "scattermapbox": [
           {
            "marker": {
             "colorbar": {
              "outlinewidth": 1,
              "tickcolor": "rgb(36,36,36)",
              "ticks": "outside"
             }
            },
            "type": "scattermapbox"
           }
          ],
          "scatterpolar": [
           {
            "marker": {
             "colorbar": {
              "outlinewidth": 1,
              "tickcolor": "rgb(36,36,36)",
              "ticks": "outside"
             }
            },
            "type": "scatterpolar"
           }
          ],
          "scatterpolargl": [
           {
            "marker": {
             "colorbar": {
              "outlinewidth": 1,
              "tickcolor": "rgb(36,36,36)",
              "ticks": "outside"
             }
            },
            "type": "scatterpolargl"
           }
          ],
          "scatterternary": [
           {
            "marker": {
             "colorbar": {
              "outlinewidth": 1,
              "tickcolor": "rgb(36,36,36)",
              "ticks": "outside"
             }
            },
            "type": "scatterternary"
           }
          ],
          "surface": [
           {
            "colorbar": {
             "outlinewidth": 1,
             "tickcolor": "rgb(36,36,36)",
             "ticks": "outside"
            },
            "colorscale": [
             [
              0,
              "#440154"
             ],
             [
              0.1111111111111111,
              "#482878"
             ],
             [
              0.2222222222222222,
              "#3e4989"
             ],
             [
              0.3333333333333333,
              "#31688e"
             ],
             [
              0.4444444444444444,
              "#26828e"
             ],
             [
              0.5555555555555556,
              "#1f9e89"
             ],
             [
              0.6666666666666666,
              "#35b779"
             ],
             [
              0.7777777777777778,
              "#6ece58"
             ],
             [
              0.8888888888888888,
              "#b5de2b"
             ],
             [
              1,
              "#fde725"
             ]
            ],
            "type": "surface"
           }
          ],
          "table": [
           {
            "cells": {
             "fill": {
              "color": "rgb(237,237,237)"
             },
             "line": {
              "color": "white"
             }
            },
            "header": {
             "fill": {
              "color": "rgb(217,217,217)"
             },
             "line": {
              "color": "white"
             }
            },
            "type": "table"
           }
          ]
         },
         "layout": {
          "annotationdefaults": {
           "arrowhead": 0,
           "arrowwidth": 1
          },
          "autotypenumbers": "strict",
          "coloraxis": {
           "colorbar": {
            "outlinewidth": 1,
            "tickcolor": "rgb(36,36,36)",
            "ticks": "outside"
           }
          },
          "colorscale": {
           "diverging": [
            [
             0,
             "rgb(103,0,31)"
            ],
            [
             0.1,
             "rgb(178,24,43)"
            ],
            [
             0.2,
             "rgb(214,96,77)"
            ],
            [
             0.3,
             "rgb(244,165,130)"
            ],
            [
             0.4,
             "rgb(253,219,199)"
            ],
            [
             0.5,
             "rgb(247,247,247)"
            ],
            [
             0.6,
             "rgb(209,229,240)"
            ],
            [
             0.7,
             "rgb(146,197,222)"
            ],
            [
             0.8,
             "rgb(67,147,195)"
            ],
            [
             0.9,
             "rgb(33,102,172)"
            ],
            [
             1,
             "rgb(5,48,97)"
            ]
           ],
           "sequential": [
            [
             0,
             "#440154"
            ],
            [
             0.1111111111111111,
             "#482878"
            ],
            [
             0.2222222222222222,
             "#3e4989"
            ],
            [
             0.3333333333333333,
             "#31688e"
            ],
            [
             0.4444444444444444,
             "#26828e"
            ],
            [
             0.5555555555555556,
             "#1f9e89"
            ],
            [
             0.6666666666666666,
             "#35b779"
            ],
            [
             0.7777777777777778,
             "#6ece58"
            ],
            [
             0.8888888888888888,
             "#b5de2b"
            ],
            [
             1,
             "#fde725"
            ]
           ],
           "sequentialminus": [
            [
             0,
             "#440154"
            ],
            [
             0.1111111111111111,
             "#482878"
            ],
            [
             0.2222222222222222,
             "#3e4989"
            ],
            [
             0.3333333333333333,
             "#31688e"
            ],
            [
             0.4444444444444444,
             "#26828e"
            ],
            [
             0.5555555555555556,
             "#1f9e89"
            ],
            [
             0.6666666666666666,
             "#35b779"
            ],
            [
             0.7777777777777778,
             "#6ece58"
            ],
            [
             0.8888888888888888,
             "#b5de2b"
            ],
            [
             1,
             "#fde725"
            ]
           ]
          },
          "colorway": [
           "#1F77B4",
           "#FF7F0E",
           "#2CA02C",
           "#D62728",
           "#9467BD",
           "#8C564B",
           "#E377C2",
           "#7F7F7F",
           "#BCBD22",
           "#17BECF"
          ],
          "font": {
           "color": "rgb(36,36,36)"
          },
          "geo": {
           "bgcolor": "white",
           "lakecolor": "white",
           "landcolor": "white",
           "showlakes": true,
           "showland": true,
           "subunitcolor": "white"
          },
          "hoverlabel": {
           "align": "left"
          },
          "hovermode": "closest",
          "mapbox": {
           "style": "light"
          },
          "paper_bgcolor": "white",
          "plot_bgcolor": "white",
          "polar": {
           "angularaxis": {
            "gridcolor": "rgb(232,232,232)",
            "linecolor": "rgb(36,36,36)",
            "showgrid": false,
            "showline": true,
            "ticks": "outside"
           },
           "bgcolor": "white",
           "radialaxis": {
            "gridcolor": "rgb(232,232,232)",
            "linecolor": "rgb(36,36,36)",
            "showgrid": false,
            "showline": true,
            "ticks": "outside"
           }
          },
          "scene": {
           "xaxis": {
            "backgroundcolor": "white",
            "gridcolor": "rgb(232,232,232)",
            "gridwidth": 2,
            "linecolor": "rgb(36,36,36)",
            "showbackground": true,
            "showgrid": false,
            "showline": true,
            "ticks": "outside",
            "zeroline": false,
            "zerolinecolor": "rgb(36,36,36)"
           },
           "yaxis": {
            "backgroundcolor": "white",
            "gridcolor": "rgb(232,232,232)",
            "gridwidth": 2,
            "linecolor": "rgb(36,36,36)",
            "showbackground": true,
            "showgrid": false,
            "showline": true,
            "ticks": "outside",
            "zeroline": false,
            "zerolinecolor": "rgb(36,36,36)"
           },
           "zaxis": {
            "backgroundcolor": "white",
            "gridcolor": "rgb(232,232,232)",
            "gridwidth": 2,
            "linecolor": "rgb(36,36,36)",
            "showbackground": true,
            "showgrid": false,
            "showline": true,
            "ticks": "outside",
            "zeroline": false,
            "zerolinecolor": "rgb(36,36,36)"
           }
          },
          "shapedefaults": {
           "fillcolor": "black",
           "line": {
            "width": 0
           },
           "opacity": 0.3
          },
          "ternary": {
           "aaxis": {
            "gridcolor": "rgb(232,232,232)",
            "linecolor": "rgb(36,36,36)",
            "showgrid": false,
            "showline": true,
            "ticks": "outside"
           },
           "baxis": {
            "gridcolor": "rgb(232,232,232)",
            "linecolor": "rgb(36,36,36)",
            "showgrid": false,
            "showline": true,
            "ticks": "outside"
           },
           "bgcolor": "white",
           "caxis": {
            "gridcolor": "rgb(232,232,232)",
            "linecolor": "rgb(36,36,36)",
            "showgrid": false,
            "showline": true,
            "ticks": "outside"
           }
          },
          "title": {
           "x": 0.05
          },
          "xaxis": {
           "automargin": true,
           "gridcolor": "rgb(232,232,232)",
           "linecolor": "rgb(36,36,36)",
           "showgrid": false,
           "showline": true,
           "ticks": "outside",
           "title": {
            "standoff": 15
           },
           "zeroline": false,
           "zerolinecolor": "rgb(36,36,36)"
          },
          "yaxis": {
           "automargin": true,
           "gridcolor": "rgb(232,232,232)",
           "linecolor": "rgb(36,36,36)",
           "showgrid": false,
           "showline": true,
           "ticks": "outside",
           "title": {
            "standoff": 15
           },
           "zeroline": false,
           "zerolinecolor": "rgb(36,36,36)"
          }
         }
        },
        "title": {
         "text": "Which social media platforms are most popular"
        },
        "width": 800,
        "xaxis": {
         "anchor": "y",
         "domain": [
          0,
          1
         ],
         "range": [
          "2012-07-01",
          "2023-12-31"
         ],
         "title": {
          "text": "Year"
         }
        },
        "yaxis": {
         "anchor": "x",
         "domain": [
          0,
          1
         ],
         "range": [
          0,
          100
         ],
         "ticksuffix": "%",
         "title": {
          "text": "Percentage"
         }
        }
       }
      }
     },
     "metadata": {},
     "output_type": "display_data"
    }
   ],
   "source": [
    "# Creating the interactive plot using plotly.express\n",
    "fig = px.line(\n",
    "    social_media_data_long, \n",
    "    x = \"Year\", \n",
    "    y = \"Percentage\", \n",
    "    color = \"Platform\",\n",
    "    title = \"Which social media platforms are most popular\",\n",
    "    markers = True,\n",
    "    color_discrete_sequence = px.colors.qualitative.Pastel\n",
    ")\n",
    "\n",
    "fig.update_yaxes(range = [0, 100], ticksuffix = \"%\")\n",
    "\n",
    "# Adding a vertical line to indicate a change in survey mode\n",
    "fig.add_vline(\n",
    "    x = '2022-01-01',  # Replace with the appropriate date or x value for the vertical line\n",
    "    line_width = 2,\n",
    "    # line_dash = \"dash\",\n",
    "    line_color = \"gray\"\n",
    ")\n",
    "\n",
    "# Adding annotation for the vertical line\n",
    "fig.add_annotation(\n",
    "    x = '2022-01-01',\n",
    "    y = 95,  # Set this to a value that places the annotation clearly above the chart\n",
    "    text = \"Change in survey mode --\",\n",
    "    showarrow = False,\n",
    "    font = dict(size = 12, color = \"gray\"),\n",
    "    xanchor = 'left', \n",
    "    xshift = -160\n",
    ")\n",
    "\n",
    "# Set the format of the interactive label\n",
    "fig.update_traces(\n",
    "    hovertemplate = '%{x|%d-%m-%Y} <br> %{fullData.name}: %{y} <extra></extra>', \n",
    "    marker = dict(size = 8),\n",
    "    # line = dict(width = 3)\n",
    ")\n",
    "\n",
    "# Set the scale of x axis\n",
    "fig.update_xaxes(range=['2012-07-01', '2023-12-31'])\n",
    "\n",
    "# Show the interactive plot\n",
    "fig.show()"
   ]
  }
 ],
 "metadata": {
  "kernelspec": {
   "display_name": "Python 3",
   "language": "python",
   "name": "python3"
  },
  "language_info": {
   "codemirror_mode": {
    "name": "ipython",
    "version": 3
   },
   "file_extension": ".py",
   "mimetype": "text/x-python",
   "name": "python",
   "nbconvert_exporter": "python",
   "pygments_lexer": "ipython3",
   "version": "3.12.6"
  }
 },
 "nbformat": 4,
 "nbformat_minor": 2
}
